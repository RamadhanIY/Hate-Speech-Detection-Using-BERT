{
  "cells": [
    {
      "cell_type": "code",
      "execution_count": null,
      "metadata": {
        "colab": {
          "base_uri": "https://localhost:8080/"
        },
        "id": "vEosaDmpOzql",
        "outputId": "7e4307ab-6083-4dd1-ba8b-1a9c7a301d65"
      },
      "outputs": [
        {
          "output_type": "stream",
          "name": "stdout",
          "text": [
            "Looking in indexes: https://pypi.org/simple, https://us-python.pkg.dev/colab-wheels/public/simple/\n",
            "Collecting git+https://github.com/JustAnotherArchivist/snscrape.git\n",
            "  Cloning https://github.com/JustAnotherArchivist/snscrape.git to /tmp/pip-req-build-_mej4xdh\n",
            "  Running command git clone --filter=blob:none --quiet https://github.com/JustAnotherArchivist/snscrape.git /tmp/pip-req-build-_mej4xdh\n",
            "  Resolved https://github.com/JustAnotherArchivist/snscrape.git to commit b76f485208016f337ce36a3c6c0c6573502693a7\n",
            "  Installing build dependencies ... \u001b[?25l\u001b[?25hdone\n",
            "  Getting requirements to build wheel ... \u001b[?25l\u001b[?25hdone\n",
            "  Installing backend dependencies ... \u001b[?25l\u001b[?25hdone\n",
            "  Preparing metadata (pyproject.toml) ... \u001b[?25l\u001b[?25hdone\n",
            "Requirement already satisfied: requests[socks] in /usr/local/lib/python3.10/dist-packages (from snscrape==0.6.2.20230321.dev32+gb76f485) (2.27.1)\n",
            "Requirement already satisfied: lxml in /usr/local/lib/python3.10/dist-packages (from snscrape==0.6.2.20230321.dev32+gb76f485) (4.9.2)\n",
            "Requirement already satisfied: beautifulsoup4 in /usr/local/lib/python3.10/dist-packages (from snscrape==0.6.2.20230321.dev32+gb76f485) (4.11.2)\n",
            "Requirement already satisfied: filelock in /usr/local/lib/python3.10/dist-packages (from snscrape==0.6.2.20230321.dev32+gb76f485) (3.12.0)\n",
            "Requirement already satisfied: soupsieve>1.2 in /usr/local/lib/python3.10/dist-packages (from beautifulsoup4->snscrape==0.6.2.20230321.dev32+gb76f485) (2.4.1)\n",
            "Requirement already satisfied: urllib3<1.27,>=1.21.1 in /usr/local/lib/python3.10/dist-packages (from requests[socks]->snscrape==0.6.2.20230321.dev32+gb76f485) (1.26.15)\n",
            "Requirement already satisfied: certifi>=2017.4.17 in /usr/local/lib/python3.10/dist-packages (from requests[socks]->snscrape==0.6.2.20230321.dev32+gb76f485) (2022.12.7)\n",
            "Requirement already satisfied: charset-normalizer~=2.0.0 in /usr/local/lib/python3.10/dist-packages (from requests[socks]->snscrape==0.6.2.20230321.dev32+gb76f485) (2.0.12)\n",
            "Requirement already satisfied: idna<4,>=2.5 in /usr/local/lib/python3.10/dist-packages (from requests[socks]->snscrape==0.6.2.20230321.dev32+gb76f485) (3.4)\n",
            "Requirement already satisfied: PySocks!=1.5.7,>=1.5.6 in /usr/local/lib/python3.10/dist-packages (from requests[socks]->snscrape==0.6.2.20230321.dev32+gb76f485) (1.7.1)\n",
            "Building wheels for collected packages: snscrape\n",
            "  Building wheel for snscrape (pyproject.toml) ... \u001b[?25l\u001b[?25hdone\n",
            "  Created wheel for snscrape: filename=snscrape-0.6.2.20230321.dev32+gb76f485-py3-none-any.whl size=73275 sha256=38e228ca206a5df762c068a1b45d4b9aaabb2dea8319621f5f42424c8f467132\n",
            "  Stored in directory: /tmp/pip-ephem-wheel-cache-e6__k6x2/wheels/05/e9/f7/57056e7c7e44b1feed932fa49fdec9d706c4f563e37160ab74\n",
            "Successfully built snscrape\n",
            "Installing collected packages: snscrape\n",
            "Successfully installed snscrape-0.6.2.20230321.dev32+gb76f485\n"
          ]
        }
      ],
      "source": [
        "!pip3 install git+https://github.com/JustAnotherArchivist/snscrape.git"
      ]
    },
    {
      "cell_type": "code",
      "execution_count": null,
      "metadata": {
        "id": "f5Mg1fywOG5S"
      },
      "outputs": [],
      "source": [
        "import snscrape.modules.twitter as sntwitter\n",
        "import pandas as pd\n",
        "import re"
      ]
    },
    {
      "cell_type": "code",
      "execution_count": null,
      "metadata": {
        "colab": {
          "base_uri": "https://localhost:8080/"
        },
        "id": "e8zM69X2jgQ1",
        "outputId": "771c4f12-fefd-418a-be8b-567e3b65fba5"
      },
      "outputs": [
        {
          "output_type": "stream",
          "name": "stderr",
          "text": [
            "<ipython-input-13-0e7b41b99944>:6: DeprecatedFeatureWarning: content is deprecated, use rawContent instead\n",
            "  attributes_container.append([tweet.user.username, tweet.content])\n",
            "WARNING:snscrape.modules.twitter:Unavailable user in card on tweet 1665490597006950403\n",
            "WARNING:snscrape.modules.twitter:Unavailable user in card on tweet 1665490597006950403\n",
            "WARNING:snscrape.modules.twitter:User 1604498117021138944 not found in user refs in card on tweet 1665490597006950403\n",
            "WARNING:snscrape.modules.twitter:User 1604498117021138944 not found in user refs in card on tweet 1665490597006950403\n",
            "WARNING:snscrape.modules.twitter:Stopping after 20 empty pages\n"
          ]
        }
      ],
      "source": [
        "# Creating list to append tweet data to\n",
        "attributes_container = []\n",
        "\n",
        "# Using TwitterSearchScraper to scrape data and append tweets to list\n",
        "for i,tweet in enumerate(sntwitter.TwitterSearchScraper('ganjar since:2023-05-05 until:2023-06-05').get_items()):\n",
        "    attributes_container.append([tweet.user.username, tweet.content])\n",
        "\n",
        "# Creating a dataframe to load the list\n",
        "tweets_dfganjar = pd.DataFrame(attributes_container, columns=[\"User\", \"Tweet\"])"
      ]
    },
    {
      "cell_type": "code",
      "source": [
        "tweets_dfganjar"
      ],
      "metadata": {
        "colab": {
          "base_uri": "https://localhost:8080/",
          "height": 424
        },
        "id": "CY4KqqdM_6Gj",
        "outputId": "f9c875b2-b415-4b5c-cd3f-7b99e869a445"
      },
      "execution_count": null,
      "outputs": [
        {
          "output_type": "execute_result",
          "data": {
            "text/plain": [
              "               User                                              Tweet\n",
              "0           jpnncom  Habib Ali: Gus Muhaimin Sangat Pas Jadi Cawapr...\n",
              "1         gicun1265  @CutSarina5 @ruhutsitompul Jurkamnya Ganjar,  ...\n",
              "2   sunarto94981121  @ekowboy2 Anis...najis.....Ganjar menang https...\n",
              "3           jawapos  Hubungan Megawati-Jokowi Renggang, Begini Reak...\n",
              "4          VIVAcoid  Viral Kegiatan Relawan Ganjar di Lampung Libat...\n",
              "..              ...                                                ...\n",
              "79  Melissa03257022  @Ganjaran_app @ganjarpranowo Kemaren udh nongk...\n",
              "80   ganjar_zampank                                 @syahminbp76 يسلمو\n",
              "81        Ini_ajunk  Simak! Survei Terbaru Capres 2024: Prabowo Sub...\n",
              "82        Ini_ajunk  Prabowo Subianto Subianto Ditanya Jadi Cawapre...\n",
              "83          Suara62  Tak ada yang tidak mungkin kalau kita bersatu,...\n",
              "\n",
              "[84 rows x 2 columns]"
            ],
            "text/html": [
              "\n",
              "  <div id=\"df-88a35904-3318-4304-b696-cfb5f381295b\">\n",
              "    <div class=\"colab-df-container\">\n",
              "      <div>\n",
              "<style scoped>\n",
              "    .dataframe tbody tr th:only-of-type {\n",
              "        vertical-align: middle;\n",
              "    }\n",
              "\n",
              "    .dataframe tbody tr th {\n",
              "        vertical-align: top;\n",
              "    }\n",
              "\n",
              "    .dataframe thead th {\n",
              "        text-align: right;\n",
              "    }\n",
              "</style>\n",
              "<table border=\"1\" class=\"dataframe\">\n",
              "  <thead>\n",
              "    <tr style=\"text-align: right;\">\n",
              "      <th></th>\n",
              "      <th>User</th>\n",
              "      <th>Tweet</th>\n",
              "    </tr>\n",
              "  </thead>\n",
              "  <tbody>\n",
              "    <tr>\n",
              "      <th>0</th>\n",
              "      <td>jpnncom</td>\n",
              "      <td>Habib Ali: Gus Muhaimin Sangat Pas Jadi Cawapr...</td>\n",
              "    </tr>\n",
              "    <tr>\n",
              "      <th>1</th>\n",
              "      <td>gicun1265</td>\n",
              "      <td>@CutSarina5 @ruhutsitompul Jurkamnya Ganjar,  ...</td>\n",
              "    </tr>\n",
              "    <tr>\n",
              "      <th>2</th>\n",
              "      <td>sunarto94981121</td>\n",
              "      <td>@ekowboy2 Anis...najis.....Ganjar menang https...</td>\n",
              "    </tr>\n",
              "    <tr>\n",
              "      <th>3</th>\n",
              "      <td>jawapos</td>\n",
              "      <td>Hubungan Megawati-Jokowi Renggang, Begini Reak...</td>\n",
              "    </tr>\n",
              "    <tr>\n",
              "      <th>4</th>\n",
              "      <td>VIVAcoid</td>\n",
              "      <td>Viral Kegiatan Relawan Ganjar di Lampung Libat...</td>\n",
              "    </tr>\n",
              "    <tr>\n",
              "      <th>...</th>\n",
              "      <td>...</td>\n",
              "      <td>...</td>\n",
              "    </tr>\n",
              "    <tr>\n",
              "      <th>79</th>\n",
              "      <td>Melissa03257022</td>\n",
              "      <td>@Ganjaran_app @ganjarpranowo Kemaren udh nongk...</td>\n",
              "    </tr>\n",
              "    <tr>\n",
              "      <th>80</th>\n",
              "      <td>ganjar_zampank</td>\n",
              "      <td>@syahminbp76 يسلمو</td>\n",
              "    </tr>\n",
              "    <tr>\n",
              "      <th>81</th>\n",
              "      <td>Ini_ajunk</td>\n",
              "      <td>Simak! Survei Terbaru Capres 2024: Prabowo Sub...</td>\n",
              "    </tr>\n",
              "    <tr>\n",
              "      <th>82</th>\n",
              "      <td>Ini_ajunk</td>\n",
              "      <td>Prabowo Subianto Subianto Ditanya Jadi Cawapre...</td>\n",
              "    </tr>\n",
              "    <tr>\n",
              "      <th>83</th>\n",
              "      <td>Suara62</td>\n",
              "      <td>Tak ada yang tidak mungkin kalau kita bersatu,...</td>\n",
              "    </tr>\n",
              "  </tbody>\n",
              "</table>\n",
              "<p>84 rows × 2 columns</p>\n",
              "</div>\n",
              "      <button class=\"colab-df-convert\" onclick=\"convertToInteractive('df-88a35904-3318-4304-b696-cfb5f381295b')\"\n",
              "              title=\"Convert this dataframe to an interactive table.\"\n",
              "              style=\"display:none;\">\n",
              "        \n",
              "  <svg xmlns=\"http://www.w3.org/2000/svg\" height=\"24px\"viewBox=\"0 0 24 24\"\n",
              "       width=\"24px\">\n",
              "    <path d=\"M0 0h24v24H0V0z\" fill=\"none\"/>\n",
              "    <path d=\"M18.56 5.44l.94 2.06.94-2.06 2.06-.94-2.06-.94-.94-2.06-.94 2.06-2.06.94zm-11 1L8.5 8.5l.94-2.06 2.06-.94-2.06-.94L8.5 2.5l-.94 2.06-2.06.94zm10 10l.94 2.06.94-2.06 2.06-.94-2.06-.94-.94-2.06-.94 2.06-2.06.94z\"/><path d=\"M17.41 7.96l-1.37-1.37c-.4-.4-.92-.59-1.43-.59-.52 0-1.04.2-1.43.59L10.3 9.45l-7.72 7.72c-.78.78-.78 2.05 0 2.83L4 21.41c.39.39.9.59 1.41.59.51 0 1.02-.2 1.41-.59l7.78-7.78 2.81-2.81c.8-.78.8-2.07 0-2.86zM5.41 20L4 18.59l7.72-7.72 1.47 1.35L5.41 20z\"/>\n",
              "  </svg>\n",
              "      </button>\n",
              "      \n",
              "  <style>\n",
              "    .colab-df-container {\n",
              "      display:flex;\n",
              "      flex-wrap:wrap;\n",
              "      gap: 12px;\n",
              "    }\n",
              "\n",
              "    .colab-df-convert {\n",
              "      background-color: #E8F0FE;\n",
              "      border: none;\n",
              "      border-radius: 50%;\n",
              "      cursor: pointer;\n",
              "      display: none;\n",
              "      fill: #1967D2;\n",
              "      height: 32px;\n",
              "      padding: 0 0 0 0;\n",
              "      width: 32px;\n",
              "    }\n",
              "\n",
              "    .colab-df-convert:hover {\n",
              "      background-color: #E2EBFA;\n",
              "      box-shadow: 0px 1px 2px rgba(60, 64, 67, 0.3), 0px 1px 3px 1px rgba(60, 64, 67, 0.15);\n",
              "      fill: #174EA6;\n",
              "    }\n",
              "\n",
              "    [theme=dark] .colab-df-convert {\n",
              "      background-color: #3B4455;\n",
              "      fill: #D2E3FC;\n",
              "    }\n",
              "\n",
              "    [theme=dark] .colab-df-convert:hover {\n",
              "      background-color: #434B5C;\n",
              "      box-shadow: 0px 1px 3px 1px rgba(0, 0, 0, 0.15);\n",
              "      filter: drop-shadow(0px 1px 2px rgba(0, 0, 0, 0.3));\n",
              "      fill: #FFFFFF;\n",
              "    }\n",
              "  </style>\n",
              "\n",
              "      <script>\n",
              "        const buttonEl =\n",
              "          document.querySelector('#df-88a35904-3318-4304-b696-cfb5f381295b button.colab-df-convert');\n",
              "        buttonEl.style.display =\n",
              "          google.colab.kernel.accessAllowed ? 'block' : 'none';\n",
              "\n",
              "        async function convertToInteractive(key) {\n",
              "          const element = document.querySelector('#df-88a35904-3318-4304-b696-cfb5f381295b');\n",
              "          const dataTable =\n",
              "            await google.colab.kernel.invokeFunction('convertToInteractive',\n",
              "                                                     [key], {});\n",
              "          if (!dataTable) return;\n",
              "\n",
              "          const docLinkHtml = 'Like what you see? Visit the ' +\n",
              "            '<a target=\"_blank\" href=https://colab.research.google.com/notebooks/data_table.ipynb>data table notebook</a>'\n",
              "            + ' to learn more about interactive tables.';\n",
              "          element.innerHTML = '';\n",
              "          dataTable['output_type'] = 'display_data';\n",
              "          await google.colab.output.renderOutput(dataTable, element);\n",
              "          const docLink = document.createElement('div');\n",
              "          docLink.innerHTML = docLinkHtml;\n",
              "          element.appendChild(docLink);\n",
              "        }\n",
              "      </script>\n",
              "    </div>\n",
              "  </div>\n",
              "  "
            ]
          },
          "metadata": {},
          "execution_count": 14
        }
      ]
    },
    {
      "cell_type": "code",
      "execution_count": null,
      "metadata": {
        "id": "wcfvHlc-xRgp"
      },
      "outputs": [],
      "source": [
        "tweets_dfganjar.to_csv(\"before_ganjar.csv\")"
      ]
    },
    {
      "cell_type": "code",
      "execution_count": null,
      "metadata": {
        "colab": {
          "base_uri": "https://localhost:8080/"
        },
        "id": "onsSrY3b7tLt",
        "outputId": "a1c2e257-2312-4758-9cc4-7a082cad66e7"
      },
      "outputs": [
        {
          "data": {
            "text/plain": [
              "User     0\n",
              "Tweet    0\n",
              "dtype: int64"
            ]
          },
          "execution_count": 133,
          "metadata": {},
          "output_type": "execute_result"
        }
      ],
      "source": [
        "tweets_dfganjar.isna().sum()"
      ]
    },
    {
      "cell_type": "code",
      "execution_count": null,
      "metadata": {
        "id": "-lgYi1URPCSt"
      },
      "outputs": [],
      "source": [
        "tweets_dfganjar.to_csv(\"before.csv\")"
      ]
    },
    {
      "cell_type": "code",
      "execution_count": null,
      "metadata": {
        "colab": {
          "base_uri": "https://localhost:8080/",
          "height": 423
        },
        "id": "TpFQkUwcrTKO",
        "outputId": "45237ba5-2b8e-49fe-9405-6e0552217f8d"
      },
      "outputs": [
        {
          "data": {
            "text/html": [
              "\n",
              "  <div id=\"df-3263f776-eeb9-4d2c-86dd-018880eb23fb\">\n",
              "    <div class=\"colab-df-container\">\n",
              "      <div>\n",
              "<style scoped>\n",
              "    .dataframe tbody tr th:only-of-type {\n",
              "        vertical-align: middle;\n",
              "    }\n",
              "\n",
              "    .dataframe tbody tr th {\n",
              "        vertical-align: top;\n",
              "    }\n",
              "\n",
              "    .dataframe thead th {\n",
              "        text-align: right;\n",
              "    }\n",
              "</style>\n",
              "<table border=\"1\" class=\"dataframe\">\n",
              "  <thead>\n",
              "    <tr style=\"text-align: right;\">\n",
              "      <th></th>\n",
              "      <th>Tweet</th>\n",
              "    </tr>\n",
              "  </thead>\n",
              "  <tbody>\n",
              "    <tr>\n",
              "      <th>0</th>\n",
              "      <td>Melebur dengan semua elemen \\nGanjar Gass Po...</td>\n",
              "    </tr>\n",
              "    <tr>\n",
              "      <th>1</th>\n",
              "      <td>Ganjar unggul di BuzzeRp</td>\n",
              "    </tr>\n",
              "    <tr>\n",
              "      <th>2</th>\n",
              "      <td>Nak aku pengene pak Ganjar di pasangke pak Pr...</td>\n",
              "    </tr>\n",
              "    <tr>\n",
              "      <th>3</th>\n",
              "      <td>Aq cah Candisari Semarang, 💯% tidak mendukung...</td>\n",
              "    </tr>\n",
              "    <tr>\n",
              "      <th>4</th>\n",
              "      <td>Aq cah Candisari Semarang, 💯% tidak mendukung...</td>\n",
              "    </tr>\n",
              "    <tr>\n",
              "      <th>...</th>\n",
              "      <td>...</td>\n",
              "    </tr>\n",
              "    <tr>\n",
              "      <th>15728</th>\n",
              "      <td>Pendukung pak Ganjar Pranowo merapat sini👇👇</td>\n",
              "    </tr>\n",
              "    <tr>\n",
              "      <th>15729</th>\n",
              "      <td>Tokoh Agama Islam, Kristen Katholik, Kristen P...</td>\n",
              "    </tr>\n",
              "    <tr>\n",
              "      <th>15730</th>\n",
              "      <td>Sentil Anies yang Terlalu Khawatir, Ganjar: Ka...</td>\n",
              "    </tr>\n",
              "    <tr>\n",
              "      <th>15731</th>\n",
              "      <td>Zulhas mengatakan, PAN akan melakukan diskusi ...</td>\n",
              "    </tr>\n",
              "    <tr>\n",
              "      <th>15732</th>\n",
              "      <td>Formula E ini gagasan ahok apa ganjar ya? Sy ...</td>\n",
              "    </tr>\n",
              "  </tbody>\n",
              "</table>\n",
              "<p>15733 rows × 1 columns</p>\n",
              "</div>\n",
              "      <button class=\"colab-df-convert\" onclick=\"convertToInteractive('df-3263f776-eeb9-4d2c-86dd-018880eb23fb')\"\n",
              "              title=\"Convert this dataframe to an interactive table.\"\n",
              "              style=\"display:none;\">\n",
              "        \n",
              "  <svg xmlns=\"http://www.w3.org/2000/svg\" height=\"24px\"viewBox=\"0 0 24 24\"\n",
              "       width=\"24px\">\n",
              "    <path d=\"M0 0h24v24H0V0z\" fill=\"none\"/>\n",
              "    <path d=\"M18.56 5.44l.94 2.06.94-2.06 2.06-.94-2.06-.94-.94-2.06-.94 2.06-2.06.94zm-11 1L8.5 8.5l.94-2.06 2.06-.94-2.06-.94L8.5 2.5l-.94 2.06-2.06.94zm10 10l.94 2.06.94-2.06 2.06-.94-2.06-.94-.94-2.06-.94 2.06-2.06.94z\"/><path d=\"M17.41 7.96l-1.37-1.37c-.4-.4-.92-.59-1.43-.59-.52 0-1.04.2-1.43.59L10.3 9.45l-7.72 7.72c-.78.78-.78 2.05 0 2.83L4 21.41c.39.39.9.59 1.41.59.51 0 1.02-.2 1.41-.59l7.78-7.78 2.81-2.81c.8-.78.8-2.07 0-2.86zM5.41 20L4 18.59l7.72-7.72 1.47 1.35L5.41 20z\"/>\n",
              "  </svg>\n",
              "      </button>\n",
              "      \n",
              "  <style>\n",
              "    .colab-df-container {\n",
              "      display:flex;\n",
              "      flex-wrap:wrap;\n",
              "      gap: 12px;\n",
              "    }\n",
              "\n",
              "    .colab-df-convert {\n",
              "      background-color: #E8F0FE;\n",
              "      border: none;\n",
              "      border-radius: 50%;\n",
              "      cursor: pointer;\n",
              "      display: none;\n",
              "      fill: #1967D2;\n",
              "      height: 32px;\n",
              "      padding: 0 0 0 0;\n",
              "      width: 32px;\n",
              "    }\n",
              "\n",
              "    .colab-df-convert:hover {\n",
              "      background-color: #E2EBFA;\n",
              "      box-shadow: 0px 1px 2px rgba(60, 64, 67, 0.3), 0px 1px 3px 1px rgba(60, 64, 67, 0.15);\n",
              "      fill: #174EA6;\n",
              "    }\n",
              "\n",
              "    [theme=dark] .colab-df-convert {\n",
              "      background-color: #3B4455;\n",
              "      fill: #D2E3FC;\n",
              "    }\n",
              "\n",
              "    [theme=dark] .colab-df-convert:hover {\n",
              "      background-color: #434B5C;\n",
              "      box-shadow: 0px 1px 3px 1px rgba(0, 0, 0, 0.15);\n",
              "      filter: drop-shadow(0px 1px 2px rgba(0, 0, 0, 0.3));\n",
              "      fill: #FFFFFF;\n",
              "    }\n",
              "  </style>\n",
              "\n",
              "      <script>\n",
              "        const buttonEl =\n",
              "          document.querySelector('#df-3263f776-eeb9-4d2c-86dd-018880eb23fb button.colab-df-convert');\n",
              "        buttonEl.style.display =\n",
              "          google.colab.kernel.accessAllowed ? 'block' : 'none';\n",
              "\n",
              "        async function convertToInteractive(key) {\n",
              "          const element = document.querySelector('#df-3263f776-eeb9-4d2c-86dd-018880eb23fb');\n",
              "          const dataTable =\n",
              "            await google.colab.kernel.invokeFunction('convertToInteractive',\n",
              "                                                     [key], {});\n",
              "          if (!dataTable) return;\n",
              "\n",
              "          const docLinkHtml = 'Like what you see? Visit the ' +\n",
              "            '<a target=\"_blank\" href=https://colab.research.google.com/notebooks/data_table.ipynb>data table notebook</a>'\n",
              "            + ' to learn more about interactive tables.';\n",
              "          element.innerHTML = '';\n",
              "          dataTable['output_type'] = 'display_data';\n",
              "          await google.colab.output.renderOutput(dataTable, element);\n",
              "          const docLink = document.createElement('div');\n",
              "          docLink.innerHTML = docLinkHtml;\n",
              "          element.appendChild(docLink);\n",
              "        }\n",
              "      </script>\n",
              "    </div>\n",
              "  </div>\n",
              "  "
            ],
            "text/plain": [
              "                                                   Tweet\n",
              "0        Melebur dengan semua elemen \\nGanjar Gass Po...\n",
              "1                               Ganjar unggul di BuzzeRp\n",
              "2       Nak aku pengene pak Ganjar di pasangke pak Pr...\n",
              "3       Aq cah Candisari Semarang, 💯% tidak mendukung...\n",
              "4       Aq cah Candisari Semarang, 💯% tidak mendukung...\n",
              "...                                                  ...\n",
              "15728        Pendukung pak Ganjar Pranowo merapat sini👇👇\n",
              "15729  Tokoh Agama Islam, Kristen Katholik, Kristen P...\n",
              "15730  Sentil Anies yang Terlalu Khawatir, Ganjar: Ka...\n",
              "15731  Zulhas mengatakan, PAN akan melakukan diskusi ...\n",
              "15732   Formula E ini gagasan ahok apa ganjar ya? Sy ...\n",
              "\n",
              "[15733 rows x 1 columns]"
            ]
          },
          "execution_count": 135,
          "metadata": {},
          "output_type": "execute_result"
        }
      ],
      "source": [
        "\n",
        "def clean_tweet(tweet):\n",
        "    tweet = tweets_dfganjar[\"Tweet\"][i]\n",
        "    # Remove links\n",
        "    tweet = re.sub(r\"https:\\/\\/(www\\.)?[-a-zA-Z0-9@:%._\\+~#=]{2,256}\\.[a-z]{2,6}\\b([-a-zA-Z0-9@:%_\\+.~#?&//=]*)\",\"\", tweet)\n",
        "\n",
        "    # Remove hashtags\n",
        "    tweet = re.sub(r'#\\w+', '', tweet)\n",
        "\n",
        "    # Remove mentions\n",
        "    tweet = re.sub(r'@\\w+', '', tweet)\n",
        "\n",
        "    return tweet\n",
        "\n",
        "# Sample Twitter data\n",
        "# Clean the Twitter data\n",
        "cleaned_data = []\n",
        "for i in range (len(tweets_dfganjar[\"Tweet\"].index)):\n",
        "    cleaned_tweet = clean_tweet(i)\n",
        "    cleaned_data.append(cleaned_tweet)\n",
        "\n",
        "# Print the cleaned Twitter data\n",
        "# for tweet in cleaned_data:\n",
        "#     print(tweet)\n",
        "\n",
        "cleaned_data = pd.DataFrame(cleaned_data,columns=[\"Tweet\"])\n",
        "cleaned_data"
      ]
    },
    {
      "cell_type": "code",
      "execution_count": null,
      "metadata": {
        "id": "eVgtIORwxGHL"
      },
      "outputs": [],
      "source": [
        "cleaned_data['Tweet'] = cleaned_data['Tweet'].apply(lambda x: re.split('https:\\/\\/.*', str(x))[0])\n"
      ]
    },
    {
      "cell_type": "code",
      "execution_count": null,
      "metadata": {
        "colab": {
          "base_uri": "https://localhost:8080/",
          "height": 423
        },
        "id": "dOI1_qnIyrI-",
        "outputId": "b52f6f22-3038-48bc-dace-a3bf890a0411"
      },
      "outputs": [
        {
          "data": {
            "text/html": [
              "\n",
              "  <div id=\"df-d7049e68-7b3b-409f-a107-87d0bcebd494\">\n",
              "    <div class=\"colab-df-container\">\n",
              "      <div>\n",
              "<style scoped>\n",
              "    .dataframe tbody tr th:only-of-type {\n",
              "        vertical-align: middle;\n",
              "    }\n",
              "\n",
              "    .dataframe tbody tr th {\n",
              "        vertical-align: top;\n",
              "    }\n",
              "\n",
              "    .dataframe thead th {\n",
              "        text-align: right;\n",
              "    }\n",
              "</style>\n",
              "<table border=\"1\" class=\"dataframe\">\n",
              "  <thead>\n",
              "    <tr style=\"text-align: right;\">\n",
              "      <th></th>\n",
              "      <th>Tweet</th>\n",
              "    </tr>\n",
              "  </thead>\n",
              "  <tbody>\n",
              "    <tr>\n",
              "      <th>0</th>\n",
              "      <td>Melebur dengan semua elemen \\nGanjar Gass PooL</td>\n",
              "    </tr>\n",
              "    <tr>\n",
              "      <th>1</th>\n",
              "      <td>Ganjar unggul di BuzzeRp</td>\n",
              "    </tr>\n",
              "    <tr>\n",
              "      <th>2</th>\n",
              "      <td>Nak aku pengene pak Ganjar di pasangke pak Pr...</td>\n",
              "    </tr>\n",
              "    <tr>\n",
              "      <th>3</th>\n",
              "      <td>Aq cah Candisari Semarang, % tidak mendukung ...</td>\n",
              "    </tr>\n",
              "    <tr>\n",
              "      <th>4</th>\n",
              "      <td>Aq cah Candisari Semarang, % tidak mendukung ...</td>\n",
              "    </tr>\n",
              "    <tr>\n",
              "      <th>...</th>\n",
              "      <td>...</td>\n",
              "    </tr>\n",
              "    <tr>\n",
              "      <th>15728</th>\n",
              "      <td>Pendukung pak Ganjar Pranowo merapat sini</td>\n",
              "    </tr>\n",
              "    <tr>\n",
              "      <th>15729</th>\n",
              "      <td>Tokoh Agama Islam, Kristen Katholik, Kristen P...</td>\n",
              "    </tr>\n",
              "    <tr>\n",
              "      <th>15730</th>\n",
              "      <td>Sentil Anies yang Terlalu Khawatir, Ganjar: Ka...</td>\n",
              "    </tr>\n",
              "    <tr>\n",
              "      <th>15731</th>\n",
              "      <td>Zulhas mengatakan, PAN akan melakukan diskusi ...</td>\n",
              "    </tr>\n",
              "    <tr>\n",
              "      <th>15732</th>\n",
              "      <td>Formula E ini gagasan ahok apa ganjar ya? Sy ...</td>\n",
              "    </tr>\n",
              "  </tbody>\n",
              "</table>\n",
              "<p>15733 rows × 1 columns</p>\n",
              "</div>\n",
              "      <button class=\"colab-df-convert\" onclick=\"convertToInteractive('df-d7049e68-7b3b-409f-a107-87d0bcebd494')\"\n",
              "              title=\"Convert this dataframe to an interactive table.\"\n",
              "              style=\"display:none;\">\n",
              "        \n",
              "  <svg xmlns=\"http://www.w3.org/2000/svg\" height=\"24px\"viewBox=\"0 0 24 24\"\n",
              "       width=\"24px\">\n",
              "    <path d=\"M0 0h24v24H0V0z\" fill=\"none\"/>\n",
              "    <path d=\"M18.56 5.44l.94 2.06.94-2.06 2.06-.94-2.06-.94-.94-2.06-.94 2.06-2.06.94zm-11 1L8.5 8.5l.94-2.06 2.06-.94-2.06-.94L8.5 2.5l-.94 2.06-2.06.94zm10 10l.94 2.06.94-2.06 2.06-.94-2.06-.94-.94-2.06-.94 2.06-2.06.94z\"/><path d=\"M17.41 7.96l-1.37-1.37c-.4-.4-.92-.59-1.43-.59-.52 0-1.04.2-1.43.59L10.3 9.45l-7.72 7.72c-.78.78-.78 2.05 0 2.83L4 21.41c.39.39.9.59 1.41.59.51 0 1.02-.2 1.41-.59l7.78-7.78 2.81-2.81c.8-.78.8-2.07 0-2.86zM5.41 20L4 18.59l7.72-7.72 1.47 1.35L5.41 20z\"/>\n",
              "  </svg>\n",
              "      </button>\n",
              "      \n",
              "  <style>\n",
              "    .colab-df-container {\n",
              "      display:flex;\n",
              "      flex-wrap:wrap;\n",
              "      gap: 12px;\n",
              "    }\n",
              "\n",
              "    .colab-df-convert {\n",
              "      background-color: #E8F0FE;\n",
              "      border: none;\n",
              "      border-radius: 50%;\n",
              "      cursor: pointer;\n",
              "      display: none;\n",
              "      fill: #1967D2;\n",
              "      height: 32px;\n",
              "      padding: 0 0 0 0;\n",
              "      width: 32px;\n",
              "    }\n",
              "\n",
              "    .colab-df-convert:hover {\n",
              "      background-color: #E2EBFA;\n",
              "      box-shadow: 0px 1px 2px rgba(60, 64, 67, 0.3), 0px 1px 3px 1px rgba(60, 64, 67, 0.15);\n",
              "      fill: #174EA6;\n",
              "    }\n",
              "\n",
              "    [theme=dark] .colab-df-convert {\n",
              "      background-color: #3B4455;\n",
              "      fill: #D2E3FC;\n",
              "    }\n",
              "\n",
              "    [theme=dark] .colab-df-convert:hover {\n",
              "      background-color: #434B5C;\n",
              "      box-shadow: 0px 1px 3px 1px rgba(0, 0, 0, 0.15);\n",
              "      filter: drop-shadow(0px 1px 2px rgba(0, 0, 0, 0.3));\n",
              "      fill: #FFFFFF;\n",
              "    }\n",
              "  </style>\n",
              "\n",
              "      <script>\n",
              "        const buttonEl =\n",
              "          document.querySelector('#df-d7049e68-7b3b-409f-a107-87d0bcebd494 button.colab-df-convert');\n",
              "        buttonEl.style.display =\n",
              "          google.colab.kernel.accessAllowed ? 'block' : 'none';\n",
              "\n",
              "        async function convertToInteractive(key) {\n",
              "          const element = document.querySelector('#df-d7049e68-7b3b-409f-a107-87d0bcebd494');\n",
              "          const dataTable =\n",
              "            await google.colab.kernel.invokeFunction('convertToInteractive',\n",
              "                                                     [key], {});\n",
              "          if (!dataTable) return;\n",
              "\n",
              "          const docLinkHtml = 'Like what you see? Visit the ' +\n",
              "            '<a target=\"_blank\" href=https://colab.research.google.com/notebooks/data_table.ipynb>data table notebook</a>'\n",
              "            + ' to learn more about interactive tables.';\n",
              "          element.innerHTML = '';\n",
              "          dataTable['output_type'] = 'display_data';\n",
              "          await google.colab.output.renderOutput(dataTable, element);\n",
              "          const docLink = document.createElement('div');\n",
              "          docLink.innerHTML = docLinkHtml;\n",
              "          element.appendChild(docLink);\n",
              "        }\n",
              "      </script>\n",
              "    </div>\n",
              "  </div>\n",
              "  "
            ],
            "text/plain": [
              "                                                   Tweet\n",
              "0        Melebur dengan semua elemen \\nGanjar Gass PooL \n",
              "1                               Ganjar unggul di BuzzeRp\n",
              "2       Nak aku pengene pak Ganjar di pasangke pak Pr...\n",
              "3       Aq cah Candisari Semarang, % tidak mendukung ...\n",
              "4       Aq cah Candisari Semarang, % tidak mendukung ...\n",
              "...                                                  ...\n",
              "15728          Pendukung pak Ganjar Pranowo merapat sini\n",
              "15729  Tokoh Agama Islam, Kristen Katholik, Kristen P...\n",
              "15730  Sentil Anies yang Terlalu Khawatir, Ganjar: Ka...\n",
              "15731  Zulhas mengatakan, PAN akan melakukan diskusi ...\n",
              "15732   Formula E ini gagasan ahok apa ganjar ya? Sy ...\n",
              "\n",
              "[15733 rows x 1 columns]"
            ]
          },
          "execution_count": 137,
          "metadata": {},
          "output_type": "execute_result"
        }
      ],
      "source": [
        "EMOJI_PATTERN = re.compile(\n",
        "    \"[\"\n",
        "    \"\\U0001F1E0-\\U0001F1FF\"  # flags (iOS)\n",
        "    \"\\U0001F300-\\U0001F5FF\"  # symbols & pictographs\n",
        "    \"\\U0001F600-\\U0001F64F\"  # emoticons\n",
        "    \"\\U0001F680-\\U0001F6FF\"  # transport & map symbols\n",
        "    \"\\U0001F700-\\U0001F77F\"  # alchemical symbols\n",
        "    \"\\U0001F780-\\U0001F7FF\"  # Geometric Shapes Extended\n",
        "    \"\\U0001F800-\\U0001F8FF\"  # Supplemental Arrows-C\n",
        "    \"\\U0001F900-\\U0001F9FF\"  # Supplemental Symbols and Pictographs\n",
        "    \"\\U0001FA00-\\U0001FA6F\"  # Chess Symbols\n",
        "    \"\\U0001FA70-\\U0001FAFF\"  # Symbols and Pictographs Extended-A\n",
        "    \"\\U00002702-\\U000027B0\"  # Dingbats\n",
        "    \"\\U000024C2-\\U0001F251\"\n",
        "    \"]+\"\n",
        ")\n",
        "\n",
        "cleaned_data['Tweet'] = cleaned_data['Tweet'].str.replace(EMOJI_PATTERN, '', regex=True)\n",
        "\n",
        "cleaned_data"
      ]
    },
    {
      "cell_type": "code",
      "execution_count": null,
      "metadata": {
        "id": "J0a7_byDyy3d"
      },
      "outputs": [],
      "source": [
        "cleaned_data.to_csv(\"ganjar.csv\")"
      ]
    },
    {
      "cell_type": "code",
      "execution_count": null,
      "metadata": {
        "colab": {
          "base_uri": "https://localhost:8080/"
        },
        "id": "TNAbdt68b_I8",
        "outputId": "590566ab-9147-490b-ff94-b22f1c041cbd"
      },
      "outputs": [
        {
          "name": "stdout",
          "output_type": "stream",
          "text": [
            "Looking in indexes: https://pypi.org/simple, https://us-python.pkg.dev/colab-wheels/public/simple/\n",
            "Requirement already satisfied: opendatasets in /usr/local/lib/python3.10/dist-packages (0.1.22)\n",
            "Requirement already satisfied: tqdm in /usr/local/lib/python3.10/dist-packages (from opendatasets) (4.65.0)\n",
            "Requirement already satisfied: kaggle in /usr/local/lib/python3.10/dist-packages (from opendatasets) (1.5.13)\n",
            "Requirement already satisfied: click in /usr/local/lib/python3.10/dist-packages (from opendatasets) (8.1.3)\n",
            "Requirement already satisfied: six>=1.10 in /usr/local/lib/python3.10/dist-packages (from kaggle->opendatasets) (1.16.0)\n",
            "Requirement already satisfied: certifi in /usr/local/lib/python3.10/dist-packages (from kaggle->opendatasets) (2022.12.7)\n",
            "Requirement already satisfied: python-dateutil in /usr/local/lib/python3.10/dist-packages (from kaggle->opendatasets) (2.8.2)\n",
            "Requirement already satisfied: requests in /usr/local/lib/python3.10/dist-packages (from kaggle->opendatasets) (2.27.1)\n",
            "Requirement already satisfied: python-slugify in /usr/local/lib/python3.10/dist-packages (from kaggle->opendatasets) (8.0.1)\n",
            "Requirement already satisfied: urllib3 in /usr/local/lib/python3.10/dist-packages (from kaggle->opendatasets) (1.26.15)\n",
            "Requirement already satisfied: text-unidecode>=1.3 in /usr/local/lib/python3.10/dist-packages (from python-slugify->kaggle->opendatasets) (1.3)\n",
            "Requirement already satisfied: charset-normalizer~=2.0.0 in /usr/local/lib/python3.10/dist-packages (from requests->kaggle->opendatasets) (2.0.12)\n",
            "Requirement already satisfied: idna<4,>=2.5 in /usr/local/lib/python3.10/dist-packages (from requests->kaggle->opendatasets) (3.4)\n",
            "Looking in indexes: https://pypi.org/simple, https://us-python.pkg.dev/colab-wheels/public/simple/\n",
            "Requirement already satisfied: fast_ml in /usr/local/lib/python3.10/dist-packages (3.68)\n"
          ]
        }
      ],
      "source": [
        "!pip install opendatasets\n",
        "!pip install fast_ml\n",
        "import opendatasets as od\n",
        "import pandas as pd"
      ]
    },
    {
      "cell_type": "code",
      "execution_count": null,
      "metadata": {
        "colab": {
          "base_uri": "https://localhost:8080/"
        },
        "id": "U8esHQznbroF",
        "outputId": "b15ca036-e8bf-4735-f008-eb824ba40ae0"
      },
      "outputs": [
        {
          "name": "stdout",
          "output_type": "stream",
          "text": [
            "Skipping, found downloaded files in \"./indonesian-abusive-and-hate-speech-twitter-text\" (use force=True to force download)\n",
            "Skipping, found downloaded files in \"./indonesian-stoplist\" (use force=True to force download)\n"
          ]
        }
      ],
      "source": [
        "account = {\"username\" : \"benngki\",\n",
        "           \"key\" : \"ea15cf552e253de01b40b7802fd62815\"}\n",
        "\n",
        "# hate speech text\n",
        "od.download(\"https://www.kaggle.com/datasets/ilhamfp31/indonesian-abusive-and-hate-speech-twitter-text\", )\n",
        "# indonesia stop words\n",
        "od.download(\"https://www.kaggle.com/datasets/oswinrh/indonesian-stoplist\")"
      ]
    },
    {
      "cell_type": "code",
      "execution_count": null,
      "metadata": {
        "id": "h3POmpBbmOyo"
      },
      "outputs": [],
      "source": [
        "data = pd.read_csv(\"ganjar.csv\")\n"
      ]
    },
    {
      "cell_type": "code",
      "execution_count": null,
      "metadata": {
        "colab": {
          "base_uri": "https://localhost:8080/",
          "height": 206
        },
        "id": "Z3OIfWmFcXnW",
        "outputId": "fd925552-7e58-4e98-cfd7-e9e2c2c96ed2"
      },
      "outputs": [
        {
          "data": {
            "text/html": [
              "\n",
              "  <div id=\"df-86d345e4-b9b7-4230-b0d0-9184f4823caf\">\n",
              "    <div class=\"colab-df-container\">\n",
              "      <div>\n",
              "<style scoped>\n",
              "    .dataframe tbody tr th:only-of-type {\n",
              "        vertical-align: middle;\n",
              "    }\n",
              "\n",
              "    .dataframe tbody tr th {\n",
              "        vertical-align: top;\n",
              "    }\n",
              "\n",
              "    .dataframe thead th {\n",
              "        text-align: right;\n",
              "    }\n",
              "</style>\n",
              "<table border=\"1\" class=\"dataframe\">\n",
              "  <thead>\n",
              "    <tr style=\"text-align: right;\">\n",
              "      <th></th>\n",
              "      <th>original</th>\n",
              "      <th>replacement</th>\n",
              "    </tr>\n",
              "  </thead>\n",
              "  <tbody>\n",
              "    <tr>\n",
              "      <th>0</th>\n",
              "      <td>anakjakartaasikasik</td>\n",
              "      <td>anak jakarta asyik asyik</td>\n",
              "    </tr>\n",
              "    <tr>\n",
              "      <th>1</th>\n",
              "      <td>pakcikdahtua</td>\n",
              "      <td>pak cik sudah tua</td>\n",
              "    </tr>\n",
              "    <tr>\n",
              "      <th>2</th>\n",
              "      <td>pakcikmudalagi</td>\n",
              "      <td>pak cik muda lagi</td>\n",
              "    </tr>\n",
              "    <tr>\n",
              "      <th>3</th>\n",
              "      <td>t3tapjokowi</td>\n",
              "      <td>tetap jokowi</td>\n",
              "    </tr>\n",
              "    <tr>\n",
              "      <th>4</th>\n",
              "      <td>3x</td>\n",
              "      <td>tiga kali</td>\n",
              "    </tr>\n",
              "  </tbody>\n",
              "</table>\n",
              "</div>\n",
              "      <button class=\"colab-df-convert\" onclick=\"convertToInteractive('df-86d345e4-b9b7-4230-b0d0-9184f4823caf')\"\n",
              "              title=\"Convert this dataframe to an interactive table.\"\n",
              "              style=\"display:none;\">\n",
              "        \n",
              "  <svg xmlns=\"http://www.w3.org/2000/svg\" height=\"24px\"viewBox=\"0 0 24 24\"\n",
              "       width=\"24px\">\n",
              "    <path d=\"M0 0h24v24H0V0z\" fill=\"none\"/>\n",
              "    <path d=\"M18.56 5.44l.94 2.06.94-2.06 2.06-.94-2.06-.94-.94-2.06-.94 2.06-2.06.94zm-11 1L8.5 8.5l.94-2.06 2.06-.94-2.06-.94L8.5 2.5l-.94 2.06-2.06.94zm10 10l.94 2.06.94-2.06 2.06-.94-2.06-.94-.94-2.06-.94 2.06-2.06.94z\"/><path d=\"M17.41 7.96l-1.37-1.37c-.4-.4-.92-.59-1.43-.59-.52 0-1.04.2-1.43.59L10.3 9.45l-7.72 7.72c-.78.78-.78 2.05 0 2.83L4 21.41c.39.39.9.59 1.41.59.51 0 1.02-.2 1.41-.59l7.78-7.78 2.81-2.81c.8-.78.8-2.07 0-2.86zM5.41 20L4 18.59l7.72-7.72 1.47 1.35L5.41 20z\"/>\n",
              "  </svg>\n",
              "      </button>\n",
              "      \n",
              "  <style>\n",
              "    .colab-df-container {\n",
              "      display:flex;\n",
              "      flex-wrap:wrap;\n",
              "      gap: 12px;\n",
              "    }\n",
              "\n",
              "    .colab-df-convert {\n",
              "      background-color: #E8F0FE;\n",
              "      border: none;\n",
              "      border-radius: 50%;\n",
              "      cursor: pointer;\n",
              "      display: none;\n",
              "      fill: #1967D2;\n",
              "      height: 32px;\n",
              "      padding: 0 0 0 0;\n",
              "      width: 32px;\n",
              "    }\n",
              "\n",
              "    .colab-df-convert:hover {\n",
              "      background-color: #E2EBFA;\n",
              "      box-shadow: 0px 1px 2px rgba(60, 64, 67, 0.3), 0px 1px 3px 1px rgba(60, 64, 67, 0.15);\n",
              "      fill: #174EA6;\n",
              "    }\n",
              "\n",
              "    [theme=dark] .colab-df-convert {\n",
              "      background-color: #3B4455;\n",
              "      fill: #D2E3FC;\n",
              "    }\n",
              "\n",
              "    [theme=dark] .colab-df-convert:hover {\n",
              "      background-color: #434B5C;\n",
              "      box-shadow: 0px 1px 3px 1px rgba(0, 0, 0, 0.15);\n",
              "      filter: drop-shadow(0px 1px 2px rgba(0, 0, 0, 0.3));\n",
              "      fill: #FFFFFF;\n",
              "    }\n",
              "  </style>\n",
              "\n",
              "      <script>\n",
              "        const buttonEl =\n",
              "          document.querySelector('#df-86d345e4-b9b7-4230-b0d0-9184f4823caf button.colab-df-convert');\n",
              "        buttonEl.style.display =\n",
              "          google.colab.kernel.accessAllowed ? 'block' : 'none';\n",
              "\n",
              "        async function convertToInteractive(key) {\n",
              "          const element = document.querySelector('#df-86d345e4-b9b7-4230-b0d0-9184f4823caf');\n",
              "          const dataTable =\n",
              "            await google.colab.kernel.invokeFunction('convertToInteractive',\n",
              "                                                     [key], {});\n",
              "          if (!dataTable) return;\n",
              "\n",
              "          const docLinkHtml = 'Like what you see? Visit the ' +\n",
              "            '<a target=\"_blank\" href=https://colab.research.google.com/notebooks/data_table.ipynb>data table notebook</a>'\n",
              "            + ' to learn more about interactive tables.';\n",
              "          element.innerHTML = '';\n",
              "          dataTable['output_type'] = 'display_data';\n",
              "          await google.colab.output.renderOutput(dataTable, element);\n",
              "          const docLink = document.createElement('div');\n",
              "          docLink.innerHTML = docLinkHtml;\n",
              "          element.appendChild(docLink);\n",
              "        }\n",
              "      </script>\n",
              "    </div>\n",
              "  </div>\n",
              "  "
            ],
            "text/plain": [
              "              original               replacement\n",
              "0  anakjakartaasikasik  anak jakarta asyik asyik\n",
              "1         pakcikdahtua         pak cik sudah tua\n",
              "2       pakcikmudalagi         pak cik muda lagi\n",
              "3          t3tapjokowi              tetap jokowi\n",
              "4                   3x                 tiga kali"
            ]
          },
          "execution_count": 142,
          "metadata": {},
          "output_type": "execute_result"
        }
      ],
      "source": [
        "dict_alay = pd.read_csv(\"/content/indonesian-abusive-and-hate-speech-twitter-text/new_kamusalay.csv\", encoding = 'latin-1',header=None)\n",
        "dict_alay = dict_alay.rename(columns={0:\"original\", 1:\"replacement\"})\n",
        "dict_alay.head()"
      ]
    },
    {
      "cell_type": "code",
      "execution_count": null,
      "metadata": {
        "colab": {
          "base_uri": "https://localhost:8080/",
          "height": 206
        },
        "id": "XCY9rlWmcZ6d",
        "outputId": "7f0600a4-cdef-486a-8003-6b3b12b57699"
      },
      "outputs": [
        {
          "data": {
            "text/html": [
              "\n",
              "  <div id=\"df-cb86dd0a-94de-4b4a-96b2-476f0eaab6c9\">\n",
              "    <div class=\"colab-df-container\">\n",
              "      <div>\n",
              "<style scoped>\n",
              "    .dataframe tbody tr th:only-of-type {\n",
              "        vertical-align: middle;\n",
              "    }\n",
              "\n",
              "    .dataframe tbody tr th {\n",
              "        vertical-align: top;\n",
              "    }\n",
              "\n",
              "    .dataframe thead th {\n",
              "        text-align: right;\n",
              "    }\n",
              "</style>\n",
              "<table border=\"1\" class=\"dataframe\">\n",
              "  <thead>\n",
              "    <tr style=\"text-align: right;\">\n",
              "      <th></th>\n",
              "      <th>stopword</th>\n",
              "    </tr>\n",
              "  </thead>\n",
              "  <tbody>\n",
              "    <tr>\n",
              "      <th>0</th>\n",
              "      <td>ada</td>\n",
              "    </tr>\n",
              "    <tr>\n",
              "      <th>1</th>\n",
              "      <td>adalah</td>\n",
              "    </tr>\n",
              "    <tr>\n",
              "      <th>2</th>\n",
              "      <td>adanya</td>\n",
              "    </tr>\n",
              "    <tr>\n",
              "      <th>3</th>\n",
              "      <td>adapun</td>\n",
              "    </tr>\n",
              "    <tr>\n",
              "      <th>4</th>\n",
              "      <td>agak</td>\n",
              "    </tr>\n",
              "  </tbody>\n",
              "</table>\n",
              "</div>\n",
              "      <button class=\"colab-df-convert\" onclick=\"convertToInteractive('df-cb86dd0a-94de-4b4a-96b2-476f0eaab6c9')\"\n",
              "              title=\"Convert this dataframe to an interactive table.\"\n",
              "              style=\"display:none;\">\n",
              "        \n",
              "  <svg xmlns=\"http://www.w3.org/2000/svg\" height=\"24px\"viewBox=\"0 0 24 24\"\n",
              "       width=\"24px\">\n",
              "    <path d=\"M0 0h24v24H0V0z\" fill=\"none\"/>\n",
              "    <path d=\"M18.56 5.44l.94 2.06.94-2.06 2.06-.94-2.06-.94-.94-2.06-.94 2.06-2.06.94zm-11 1L8.5 8.5l.94-2.06 2.06-.94-2.06-.94L8.5 2.5l-.94 2.06-2.06.94zm10 10l.94 2.06.94-2.06 2.06-.94-2.06-.94-.94-2.06-.94 2.06-2.06.94z\"/><path d=\"M17.41 7.96l-1.37-1.37c-.4-.4-.92-.59-1.43-.59-.52 0-1.04.2-1.43.59L10.3 9.45l-7.72 7.72c-.78.78-.78 2.05 0 2.83L4 21.41c.39.39.9.59 1.41.59.51 0 1.02-.2 1.41-.59l7.78-7.78 2.81-2.81c.8-.78.8-2.07 0-2.86zM5.41 20L4 18.59l7.72-7.72 1.47 1.35L5.41 20z\"/>\n",
              "  </svg>\n",
              "      </button>\n",
              "      \n",
              "  <style>\n",
              "    .colab-df-container {\n",
              "      display:flex;\n",
              "      flex-wrap:wrap;\n",
              "      gap: 12px;\n",
              "    }\n",
              "\n",
              "    .colab-df-convert {\n",
              "      background-color: #E8F0FE;\n",
              "      border: none;\n",
              "      border-radius: 50%;\n",
              "      cursor: pointer;\n",
              "      display: none;\n",
              "      fill: #1967D2;\n",
              "      height: 32px;\n",
              "      padding: 0 0 0 0;\n",
              "      width: 32px;\n",
              "    }\n",
              "\n",
              "    .colab-df-convert:hover {\n",
              "      background-color: #E2EBFA;\n",
              "      box-shadow: 0px 1px 2px rgba(60, 64, 67, 0.3), 0px 1px 3px 1px rgba(60, 64, 67, 0.15);\n",
              "      fill: #174EA6;\n",
              "    }\n",
              "\n",
              "    [theme=dark] .colab-df-convert {\n",
              "      background-color: #3B4455;\n",
              "      fill: #D2E3FC;\n",
              "    }\n",
              "\n",
              "    [theme=dark] .colab-df-convert:hover {\n",
              "      background-color: #434B5C;\n",
              "      box-shadow: 0px 1px 3px 1px rgba(0, 0, 0, 0.15);\n",
              "      filter: drop-shadow(0px 1px 2px rgba(0, 0, 0, 0.3));\n",
              "      fill: #FFFFFF;\n",
              "    }\n",
              "  </style>\n",
              "\n",
              "      <script>\n",
              "        const buttonEl =\n",
              "          document.querySelector('#df-cb86dd0a-94de-4b4a-96b2-476f0eaab6c9 button.colab-df-convert');\n",
              "        buttonEl.style.display =\n",
              "          google.colab.kernel.accessAllowed ? 'block' : 'none';\n",
              "\n",
              "        async function convertToInteractive(key) {\n",
              "          const element = document.querySelector('#df-cb86dd0a-94de-4b4a-96b2-476f0eaab6c9');\n",
              "          const dataTable =\n",
              "            await google.colab.kernel.invokeFunction('convertToInteractive',\n",
              "                                                     [key], {});\n",
              "          if (!dataTable) return;\n",
              "\n",
              "          const docLinkHtml = 'Like what you see? Visit the ' +\n",
              "            '<a target=\"_blank\" href=https://colab.research.google.com/notebooks/data_table.ipynb>data table notebook</a>'\n",
              "            + ' to learn more about interactive tables.';\n",
              "          element.innerHTML = '';\n",
              "          dataTable['output_type'] = 'display_data';\n",
              "          await google.colab.output.renderOutput(dataTable, element);\n",
              "          const docLink = document.createElement('div');\n",
              "          docLink.innerHTML = docLinkHtml;\n",
              "          element.appendChild(docLink);\n",
              "        }\n",
              "      </script>\n",
              "    </div>\n",
              "  </div>\n",
              "  "
            ],
            "text/plain": [
              "  stopword\n",
              "0      ada\n",
              "1   adalah\n",
              "2   adanya\n",
              "3   adapun\n",
              "4     agak"
            ]
          },
          "execution_count": 143,
          "metadata": {},
          "output_type": "execute_result"
        }
      ],
      "source": [
        "id_stopword_dict = pd.read_csv(r\"/content/indonesian-stoplist/stopwordbahasa.csv\", header = None)\n",
        "id_stopword_dict = id_stopword_dict.rename(columns={0: 'stopword'})\n",
        "id_stopword_dict.head()"
      ]
    },
    {
      "cell_type": "code",
      "execution_count": null,
      "metadata": {
        "colab": {
          "base_uri": "https://localhost:8080/"
        },
        "id": "vVb_wcroccOt",
        "outputId": "0a29969b-bdc0-4b2f-d42b-c2d68717cdfb"
      },
      "outputs": [
        {
          "name": "stdout",
          "output_type": "stream",
          "text": [
            "Looking in indexes: https://pypi.org/simple, https://us-python.pkg.dev/colab-wheels/public/simple/\n",
            "Requirement already satisfied: PySastrawi in /usr/local/lib/python3.10/dist-packages (1.2.0)\n"
          ]
        }
      ],
      "source": [
        "!pip install PySastrawi"
      ]
    },
    {
      "cell_type": "code",
      "execution_count": null,
      "metadata": {
        "id": "8EqMm4tEq7bh"
      },
      "outputs": [],
      "source": [
        "import re\n",
        "from Sastrawi.Stemmer.StemmerFactory import StemmerFactory\n",
        "factory = StemmerFactory()\n",
        "stemmer = factory.create_stemmer()"
      ]
    },
    {
      "cell_type": "code",
      "execution_count": null,
      "metadata": {
        "id": "Y6QbKYB6qg8S"
      },
      "outputs": [],
      "source": [
        "def lowercase(text):\n",
        "    return text.lower()\n",
        "\n",
        "def remove_unnecessary_char(text):\n",
        "    text = re.sub('\\n',' ',text) # Remove every '\\n'\n",
        "    text = re.sub('rt',' ',text) # Remove every retweet symbol\n",
        "    text = re.sub('user',' ',text) # Remove every username\n",
        "    text = re.sub('((www\\.[^\\s]+)|(https?://[^\\s]+)|(http?://[^\\s]+))',' ',text) # Remove every URL\n",
        "    text = re.sub('  +', ' ', text) # Remove extra spaces\n",
        "    return text\n",
        "\n",
        "def remove_nonaplhanumeric(text):\n",
        "    text = re.sub('[^0-9a-zA-Z]+', ' ', text)\n",
        "    return text\n",
        "\n",
        "alay_dict_map = dict(zip(dict_alay['original'], dict_alay['replacement']))\n",
        "def normalize_alay(text):\n",
        "    return \" \".join([alay_dict_map[word] if word in alay_dict_map.keys() else word for word in text.split()])\n",
        "\n",
        "def remove_stopword(text):\n",
        "    text = ' '.join(['' if word in id_stopword_dict.stopword.values else word for word in text.split(' ')])\n",
        "    text = re.sub('  +', ' ', text) # Remove extra spaces\n",
        "    text = text.strip()\n",
        "    return text\n",
        "\n",
        "def stemming(text):\n",
        "    return stemmer.stem(text)\n",
        "\n",
        "def preprocess(text):\n",
        "    text = lowercase(text) # 1\n",
        "    text = remove_nonaplhanumeric(text) # 2\n",
        "    text = remove_unnecessary_char(text) # 2\n",
        "    text = normalize_alay(text) # 3\n",
        "    text = stemming(text) # 4\n",
        "    # text = remove_stopword(text) # 5\n",
        "    return text"
      ]
    },
    {
      "cell_type": "code",
      "execution_count": null,
      "metadata": {
        "colab": {
          "base_uri": "https://localhost:8080/"
        },
        "id": "89mNiWtVt_-O",
        "outputId": "c5f73b3b-8881-4075-8f53-f734699635b5"
      },
      "outputs": [
        {
          "data": {
            "text/plain": [
              "(15733, 2)"
            ]
          },
          "execution_count": 147,
          "metadata": {},
          "output_type": "execute_result"
        }
      ],
      "source": [
        "old_df = data.copy()\n",
        "data.shape\n",
        "# # data.to_csv(\"afterpreprocess.csv\")"
      ]
    },
    {
      "cell_type": "code",
      "execution_count": null,
      "metadata": {
        "colab": {
          "base_uri": "https://localhost:8080/"
        },
        "id": "oeaxvfQLL-nM",
        "outputId": "00d5ba8d-3d3d-4a3c-913c-aa090d470d62"
      },
      "outputs": [
        {
          "data": {
            "text/plain": [
              "Unnamed: 0     0\n",
              "Tweet         44\n",
              "dtype: int64"
            ]
          },
          "execution_count": 148,
          "metadata": {},
          "output_type": "execute_result"
        }
      ],
      "source": [
        "data.isna().sum()"
      ]
    },
    {
      "cell_type": "code",
      "execution_count": null,
      "metadata": {
        "id": "JNyX1hSZMA_p"
      },
      "outputs": [],
      "source": [
        "data.dropna(inplace =  True)"
      ]
    },
    {
      "cell_type": "code",
      "execution_count": null,
      "metadata": {
        "id": "UlhTEVf_friD"
      },
      "outputs": [],
      "source": [
        "data[\"Tweet\"] = data[\"Tweet\"].apply(preprocess)\n",
        "datanew = data[\"Tweet\"]"
      ]
    },
    {
      "cell_type": "code",
      "execution_count": null,
      "metadata": {
        "colab": {
          "base_uri": "https://localhost:8080/"
        },
        "id": "WtETNDKygS6g",
        "outputId": "6608be8c-3ea5-4a26-e96a-fee5bae7ca44"
      },
      "outputs": [
        {
          "data": {
            "text/plain": [
              "0                lebur dengan semua elemen ganjar gas pool\n",
              "1                                 ganjar unggul di buzzerp\n",
              "2        nak aku pengene pak ganjar di pasangke pak pra...\n",
              "3           aku cah candisari semarang tidak dukung ganjar\n",
              "5        habib ali gus muhaimin sangat pas jadi calon w...\n",
              "                               ...                        \n",
              "15727    ketua umum partai demokrasi indonesia juang me...\n",
              "15728                 dukung pak ganjar pranowo rapat sini\n",
              "15729    tokoh agama islam kristen katolik kristen prot...\n",
              "15730    sentil anies yang terlalu khawatir ganjar kala...\n",
              "15732     formula e ini gagas ahok apa ganjar ya saya lupa\n",
              "Name: Tweet, Length: 12247, dtype: object"
            ]
          },
          "execution_count": 151,
          "metadata": {},
          "output_type": "execute_result"
        }
      ],
      "source": [
        "datanew = datanew.drop_duplicates()\n",
        "datanew"
      ]
    },
    {
      "cell_type": "code",
      "execution_count": null,
      "metadata": {
        "id": "V5bsexhq1vw5"
      },
      "outputs": [],
      "source": [
        "datanew = datanew.reset_index()"
      ]
    },
    {
      "cell_type": "code",
      "execution_count": null,
      "metadata": {
        "colab": {
          "base_uri": "https://localhost:8080/"
        },
        "id": "r_zsIV_B1zhN",
        "outputId": "9d70857d-52c5-4bc1-96ee-d6e09f7519ad"
      },
      "outputs": [
        {
          "data": {
            "text/plain": [
              "(12247, 2)"
            ]
          },
          "execution_count": 153,
          "metadata": {},
          "output_type": "execute_result"
        }
      ],
      "source": [
        "datanew.shape"
      ]
    },
    {
      "cell_type": "code",
      "execution_count": null,
      "metadata": {
        "colab": {
          "base_uri": "https://localhost:8080/",
          "height": 423
        },
        "id": "_p7pwVYW1H-s",
        "outputId": "e0e9cae6-8e88-47d7-cda3-a8889239ed82"
      },
      "outputs": [
        {
          "data": {
            "text/html": [
              "\n",
              "  <div id=\"df-08e59bc8-4490-4008-93c6-a2370b8e4a85\">\n",
              "    <div class=\"colab-df-container\">\n",
              "      <div>\n",
              "<style scoped>\n",
              "    .dataframe tbody tr th:only-of-type {\n",
              "        vertical-align: middle;\n",
              "    }\n",
              "\n",
              "    .dataframe tbody tr th {\n",
              "        vertical-align: top;\n",
              "    }\n",
              "\n",
              "    .dataframe thead th {\n",
              "        text-align: right;\n",
              "    }\n",
              "</style>\n",
              "<table border=\"1\" class=\"dataframe\">\n",
              "  <thead>\n",
              "    <tr style=\"text-align: right;\">\n",
              "      <th></th>\n",
              "      <th>index</th>\n",
              "      <th>Tweet</th>\n",
              "    </tr>\n",
              "  </thead>\n",
              "  <tbody>\n",
              "    <tr>\n",
              "      <th>0</th>\n",
              "      <td>0</td>\n",
              "      <td>lebur dengan semua elemen ganjar gas pool</td>\n",
              "    </tr>\n",
              "    <tr>\n",
              "      <th>1</th>\n",
              "      <td>1</td>\n",
              "      <td>ganjar unggul di buzzerp</td>\n",
              "    </tr>\n",
              "    <tr>\n",
              "      <th>2</th>\n",
              "      <td>2</td>\n",
              "      <td>nak aku pengene pak ganjar di pasangke pak pra...</td>\n",
              "    </tr>\n",
              "    <tr>\n",
              "      <th>3</th>\n",
              "      <td>3</td>\n",
              "      <td>aku cah candisari semarang tidak dukung ganjar</td>\n",
              "    </tr>\n",
              "    <tr>\n",
              "      <th>4</th>\n",
              "      <td>5</td>\n",
              "      <td>habib ali gus muhaimin sangat pas jadi calon w...</td>\n",
              "    </tr>\n",
              "    <tr>\n",
              "      <th>...</th>\n",
              "      <td>...</td>\n",
              "      <td>...</td>\n",
              "    </tr>\n",
              "    <tr>\n",
              "      <th>12242</th>\n",
              "      <td>15727</td>\n",
              "      <td>ketua umum partai demokrasi indonesia juang me...</td>\n",
              "    </tr>\n",
              "    <tr>\n",
              "      <th>12243</th>\n",
              "      <td>15728</td>\n",
              "      <td>dukung pak ganjar pranowo rapat sini</td>\n",
              "    </tr>\n",
              "    <tr>\n",
              "      <th>12244</th>\n",
              "      <td>15729</td>\n",
              "      <td>tokoh agama islam kristen katolik kristen prot...</td>\n",
              "    </tr>\n",
              "    <tr>\n",
              "      <th>12245</th>\n",
              "      <td>15730</td>\n",
              "      <td>sentil anies yang terlalu khawatir ganjar kala...</td>\n",
              "    </tr>\n",
              "    <tr>\n",
              "      <th>12246</th>\n",
              "      <td>15732</td>\n",
              "      <td>formula e ini gagas ahok apa ganjar ya saya lupa</td>\n",
              "    </tr>\n",
              "  </tbody>\n",
              "</table>\n",
              "<p>12247 rows × 2 columns</p>\n",
              "</div>\n",
              "      <button class=\"colab-df-convert\" onclick=\"convertToInteractive('df-08e59bc8-4490-4008-93c6-a2370b8e4a85')\"\n",
              "              title=\"Convert this dataframe to an interactive table.\"\n",
              "              style=\"display:none;\">\n",
              "        \n",
              "  <svg xmlns=\"http://www.w3.org/2000/svg\" height=\"24px\"viewBox=\"0 0 24 24\"\n",
              "       width=\"24px\">\n",
              "    <path d=\"M0 0h24v24H0V0z\" fill=\"none\"/>\n",
              "    <path d=\"M18.56 5.44l.94 2.06.94-2.06 2.06-.94-2.06-.94-.94-2.06-.94 2.06-2.06.94zm-11 1L8.5 8.5l.94-2.06 2.06-.94-2.06-.94L8.5 2.5l-.94 2.06-2.06.94zm10 10l.94 2.06.94-2.06 2.06-.94-2.06-.94-.94-2.06-.94 2.06-2.06.94z\"/><path d=\"M17.41 7.96l-1.37-1.37c-.4-.4-.92-.59-1.43-.59-.52 0-1.04.2-1.43.59L10.3 9.45l-7.72 7.72c-.78.78-.78 2.05 0 2.83L4 21.41c.39.39.9.59 1.41.59.51 0 1.02-.2 1.41-.59l7.78-7.78 2.81-2.81c.8-.78.8-2.07 0-2.86zM5.41 20L4 18.59l7.72-7.72 1.47 1.35L5.41 20z\"/>\n",
              "  </svg>\n",
              "      </button>\n",
              "      \n",
              "  <style>\n",
              "    .colab-df-container {\n",
              "      display:flex;\n",
              "      flex-wrap:wrap;\n",
              "      gap: 12px;\n",
              "    }\n",
              "\n",
              "    .colab-df-convert {\n",
              "      background-color: #E8F0FE;\n",
              "      border: none;\n",
              "      border-radius: 50%;\n",
              "      cursor: pointer;\n",
              "      display: none;\n",
              "      fill: #1967D2;\n",
              "      height: 32px;\n",
              "      padding: 0 0 0 0;\n",
              "      width: 32px;\n",
              "    }\n",
              "\n",
              "    .colab-df-convert:hover {\n",
              "      background-color: #E2EBFA;\n",
              "      box-shadow: 0px 1px 2px rgba(60, 64, 67, 0.3), 0px 1px 3px 1px rgba(60, 64, 67, 0.15);\n",
              "      fill: #174EA6;\n",
              "    }\n",
              "\n",
              "    [theme=dark] .colab-df-convert {\n",
              "      background-color: #3B4455;\n",
              "      fill: #D2E3FC;\n",
              "    }\n",
              "\n",
              "    [theme=dark] .colab-df-convert:hover {\n",
              "      background-color: #434B5C;\n",
              "      box-shadow: 0px 1px 3px 1px rgba(0, 0, 0, 0.15);\n",
              "      filter: drop-shadow(0px 1px 2px rgba(0, 0, 0, 0.3));\n",
              "      fill: #FFFFFF;\n",
              "    }\n",
              "  </style>\n",
              "\n",
              "      <script>\n",
              "        const buttonEl =\n",
              "          document.querySelector('#df-08e59bc8-4490-4008-93c6-a2370b8e4a85 button.colab-df-convert');\n",
              "        buttonEl.style.display =\n",
              "          google.colab.kernel.accessAllowed ? 'block' : 'none';\n",
              "\n",
              "        async function convertToInteractive(key) {\n",
              "          const element = document.querySelector('#df-08e59bc8-4490-4008-93c6-a2370b8e4a85');\n",
              "          const dataTable =\n",
              "            await google.colab.kernel.invokeFunction('convertToInteractive',\n",
              "                                                     [key], {});\n",
              "          if (!dataTable) return;\n",
              "\n",
              "          const docLinkHtml = 'Like what you see? Visit the ' +\n",
              "            '<a target=\"_blank\" href=https://colab.research.google.com/notebooks/data_table.ipynb>data table notebook</a>'\n",
              "            + ' to learn more about interactive tables.';\n",
              "          element.innerHTML = '';\n",
              "          dataTable['output_type'] = 'display_data';\n",
              "          await google.colab.output.renderOutput(dataTable, element);\n",
              "          const docLink = document.createElement('div');\n",
              "          docLink.innerHTML = docLinkHtml;\n",
              "          element.appendChild(docLink);\n",
              "        }\n",
              "      </script>\n",
              "    </div>\n",
              "  </div>\n",
              "  "
            ],
            "text/plain": [
              "       index                                              Tweet\n",
              "0          0          lebur dengan semua elemen ganjar gas pool\n",
              "1          1                           ganjar unggul di buzzerp\n",
              "2          2  nak aku pengene pak ganjar di pasangke pak pra...\n",
              "3          3     aku cah candisari semarang tidak dukung ganjar\n",
              "4          5  habib ali gus muhaimin sangat pas jadi calon w...\n",
              "...      ...                                                ...\n",
              "12242  15727  ketua umum partai demokrasi indonesia juang me...\n",
              "12243  15728               dukung pak ganjar pranowo rapat sini\n",
              "12244  15729  tokoh agama islam kristen katolik kristen prot...\n",
              "12245  15730  sentil anies yang terlalu khawatir ganjar kala...\n",
              "12246  15732   formula e ini gagas ahok apa ganjar ya saya lupa\n",
              "\n",
              "[12247 rows x 2 columns]"
            ]
          },
          "execution_count": 154,
          "metadata": {},
          "output_type": "execute_result"
        }
      ],
      "source": [
        "datanew"
      ]
    },
    {
      "cell_type": "code",
      "execution_count": null,
      "metadata": {
        "id": "-RfZqmZDLYVR"
      },
      "outputs": [],
      "source": [
        "datanew.to_csv(\"ganjar_cleandata.csv\")"
      ]
    },
    {
      "cell_type": "markdown",
      "metadata": {
        "id": "dG65pa955IWR"
      },
      "source": [
        "## Anies\n"
      ]
    },
    {
      "cell_type": "code",
      "execution_count": null,
      "metadata": {
        "colab": {
          "base_uri": "https://localhost:8080/"
        },
        "id": "do12c8Me5HPV",
        "outputId": "6bc1edaf-2948-4401-e888-c5becc086b4d"
      },
      "outputs": [
        {
          "name": "stderr",
          "output_type": "stream",
          "text": [
            "<ipython-input-72-c8ab09c10aac>:2: DeprecatedFeatureWarning: content is deprecated, use rawContent instead\n",
            "  attributes_container.append([tweet.user.username, tweet.content])\n",
            "WARNING:snscrape.modules.twitter:Skipping unrecognised entry ID: 'promoted-tweet-1663201714403418114-7741406531799a4'\n",
            "WARNING:snscrape.modules.twitter:Skipping unrecognised entry ID: 'promoted-tweet-1663201714403418114-774da787a064f75'\n",
            "WARNING:snscrape.modules.twitter:Skipping unrecognised entry ID: 'promoted-tweet-1663201714403418114-774b8516e541fee'\n",
            "WARNING:snscrape.modules.twitter:Skipping unrecognised entry ID: 'promoted-tweet-1663201714403418114-774dcbd547b1d06'\n",
            "WARNING:snscrape.modules.twitter:Skipping unrecognised entry ID: 'promoted-tweet-1663201714403418114-7743f5974db17d7'\n",
            "WARNING:snscrape.modules.twitter:Skipping unrecognised entry ID: 'promoted-tweet-1663201714403418114-7749483c723fefd'\n",
            "WARNING:snscrape.modules.twitter:Skipping unrecognised entry ID: 'promoted-tweet-1663201714403418114-77459e5e2f41011'\n",
            "WARNING:snscrape.modules.twitter:Unavailable user in card on tweet 1665493740956557312\n",
            "WARNING:snscrape.modules.twitter:Unavailable user in card on tweet 1665493740956557312\n",
            "WARNING:snscrape.modules.twitter:User 1604498117021138944 not found in user refs in card on tweet 1665493740956557312\n",
            "WARNING:snscrape.modules.twitter:User 1604498117021138944 not found in user refs in card on tweet 1665493740956557312\n",
            "WARNING:snscrape.modules.twitter:Unavailable user in card on tweet 1665492193279201280\n",
            "WARNING:snscrape.modules.twitter:Unavailable user in card on tweet 1665492193279201280\n",
            "WARNING:snscrape.modules.twitter:User 1604498117021138944 not found in user refs in card on tweet 1665492193279201280\n",
            "WARNING:snscrape.modules.twitter:User 1604498117021138944 not found in user refs in card on tweet 1665492193279201280\n",
            "WARNING:snscrape.modules.twitter:Unavailable user in card on tweet 1665491282398162944\n",
            "WARNING:snscrape.modules.twitter:Unavailable user in card on tweet 1665491282398162944\n",
            "WARNING:snscrape.modules.twitter:User 1604498117021138944 not found in user refs in card on tweet 1665491282398162944\n",
            "WARNING:snscrape.modules.twitter:User 1604498117021138944 not found in user refs in card on tweet 1665491282398162944\n",
            "WARNING:snscrape.modules.twitter:Skipping unrecognised entry ID: 'promoted-tweet-1653785610820153344-774c68e99927773'\n",
            "WARNING:snscrape.modules.twitter:Skipping unrecognised entry ID: 'promoted-tweet-1665800215453143040-774a3a142f45029'\n",
            "WARNING:snscrape.modules.twitter:Skipping unrecognised entry ID: 'promoted-tweet-1665780276687937544-774d0fc5515e324'\n",
            "WARNING:snscrape.modules.twitter:Unavailable user in card on tweet 1665490383516717056\n",
            "WARNING:snscrape.modules.twitter:Unavailable user in card on tweet 1665490383516717056\n",
            "WARNING:snscrape.modules.twitter:User 1604498117021138944 not found in user refs in card on tweet 1665490383516717056\n",
            "WARNING:snscrape.modules.twitter:User 1604498117021138944 not found in user refs in card on tweet 1665490383516717056\n",
            "WARNING:snscrape.modules.twitter:Unavailable user in card on tweet 1665486377948160001\n",
            "WARNING:snscrape.modules.twitter:Unavailable user in card on tweet 1665486377948160001\n",
            "WARNING:snscrape.modules.twitter:User 1604498117021138944 not found in user refs in card on tweet 1665486377948160001\n",
            "WARNING:snscrape.modules.twitter:User 1604498117021138944 not found in user refs in card on tweet 1665486377948160001\n",
            "WARNING:snscrape.modules.twitter:Unavailable user in card on tweet 1665483069229527040\n",
            "WARNING:snscrape.modules.twitter:Unavailable user in card on tweet 1665483069229527040\n",
            "WARNING:snscrape.modules.twitter:User 1604498117021138944 not found in user refs in card on tweet 1665483069229527040\n",
            "WARNING:snscrape.modules.twitter:User 1604498117021138944 not found in user refs in card on tweet 1665483069229527040\n",
            "WARNING:snscrape.modules.twitter:Skipping unrecognised entry ID: 'promoted-tweet-1663201714403418114-7743c39853661e2'\n",
            "WARNING:snscrape.modules.twitter:Unavailable user in card on tweet 1665482001133207552\n",
            "WARNING:snscrape.modules.twitter:Unavailable user in card on tweet 1665482001133207552\n",
            "WARNING:snscrape.modules.twitter:User 1604498117021138944 not found in user refs in card on tweet 1665482001133207552\n",
            "WARNING:snscrape.modules.twitter:User 1604498117021138944 not found in user refs in card on tweet 1665482001133207552\n",
            "WARNING:snscrape.modules.twitter:Skipping unrecognised entry ID: 'promoted-tweet-1663201714403418114-7740f6f0c1e380c'\n",
            "WARNING:snscrape.modules.twitter:Stopping after 20 empty pages\n"
          ]
        }
      ],
      "source": [
        "for i,tweet in enumerate(sntwitter.TwitterSearchScraper('anies since:2023-05-05 until:2023-06-05').get_items()):\n",
        "    attributes_container.append([tweet.user.username, tweet.content])\n",
        "\n",
        "# Creating a dataframe to load the list\n",
        "tweets_dfanies= pd.DataFrame(attributes_container, columns=[\"User\", \"Tweet\"])"
      ]
    },
    {
      "cell_type": "code",
      "execution_count": null,
      "metadata": {
        "colab": {
          "base_uri": "https://localhost:8080/"
        },
        "id": "tfF-QzMm5T6e",
        "outputId": "2488d87d-0e1d-4c54-d8ec-9af0ca91e29a"
      },
      "outputs": [
        {
          "data": {
            "text/plain": [
              "(782, 2)"
            ]
          },
          "execution_count": 73,
          "metadata": {},
          "output_type": "execute_result"
        }
      ],
      "source": [
        "tweets_dfanies.shape"
      ]
    },
    {
      "cell_type": "code",
      "execution_count": null,
      "metadata": {
        "colab": {
          "base_uri": "https://localhost:8080/",
          "height": 423
        },
        "id": "m-6FjQZf6Ndv",
        "outputId": "06893c9b-26f1-40c3-e27c-112d8030fc66"
      },
      "outputs": [
        {
          "data": {
            "text/html": [
              "\n",
              "  <div id=\"df-ba80506c-34f2-47be-8516-47be8d26e295\">\n",
              "    <div class=\"colab-df-container\">\n",
              "      <div>\n",
              "<style scoped>\n",
              "    .dataframe tbody tr th:only-of-type {\n",
              "        vertical-align: middle;\n",
              "    }\n",
              "\n",
              "    .dataframe tbody tr th {\n",
              "        vertical-align: top;\n",
              "    }\n",
              "\n",
              "    .dataframe thead th {\n",
              "        text-align: right;\n",
              "    }\n",
              "</style>\n",
              "<table border=\"1\" class=\"dataframe\">\n",
              "  <thead>\n",
              "    <tr style=\"text-align: right;\">\n",
              "      <th></th>\n",
              "      <th>User</th>\n",
              "      <th>Tweet</th>\n",
              "    </tr>\n",
              "  </thead>\n",
              "  <tbody>\n",
              "    <tr>\n",
              "      <th>0</th>\n",
              "      <td>IDSahabatGanjar</td>\n",
              "      <td>Gubernur Jawa Tengah Ganjar Pranowo mengatakan...</td>\n",
              "    </tr>\n",
              "    <tr>\n",
              "      <th>1</th>\n",
              "      <td>tribunkaltim</td>\n",
              "      <td>Cawapres Anies Baswedan Sudah Ditentukan, Demo...</td>\n",
              "    </tr>\n",
              "    <tr>\n",
              "      <th>2</th>\n",
              "      <td>b851e10764c7434</td>\n",
              "      <td>#jasper\\n#prabowo\\n#anies\\n#ganjar\\n#akik\\n#ge...</td>\n",
              "    </tr>\n",
              "    <tr>\n",
              "      <th>3</th>\n",
              "      <td>ruzzicom</td>\n",
              "      <td>#Ganjar Menang Total https://t.co/36q4JSCT6t</td>\n",
              "    </tr>\n",
              "    <tr>\n",
              "      <th>4</th>\n",
              "      <td>sdg_sumsel1</td>\n",
              "      <td>Jum'at Berkah Berbagi di Jalanan Palembang;\\n\\...</td>\n",
              "    </tr>\n",
              "    <tr>\n",
              "      <th>...</th>\n",
              "      <td>...</td>\n",
              "      <td>...</td>\n",
              "    </tr>\n",
              "    <tr>\n",
              "      <th>777</th>\n",
              "      <td>ApulPSitompul</td>\n",
              "      <td>@SalamSantun_ @islah_bahrawi Ooo jd tu poto wk...</td>\n",
              "    </tr>\n",
              "    <tr>\n",
              "      <th>778</th>\n",
              "      <td>winnetau</td>\n",
              "      <td>@one_sach97004 @putrisakera @Dennysiregar7 Set...</td>\n",
              "    </tr>\n",
              "    <tr>\n",
              "      <th>779</th>\n",
              "      <td>Thalomoan1</td>\n",
              "      <td>@AriHend34760216 😆😆😆\\nEmak ku skg jadi buzzer ...</td>\n",
              "    </tr>\n",
              "    <tr>\n",
              "      <th>780</th>\n",
              "      <td>ErwinRockerkids</td>\n",
              "      <td>@irwan_fecho Pasir yg udah keambil emang bisa ...</td>\n",
              "    </tr>\n",
              "    <tr>\n",
              "      <th>781</th>\n",
              "      <td>UjangSu30117988</td>\n",
              "      <td>@DokterTifa @aniesbaswedan Anies memang pantas...</td>\n",
              "    </tr>\n",
              "  </tbody>\n",
              "</table>\n",
              "<p>782 rows × 2 columns</p>\n",
              "</div>\n",
              "      <button class=\"colab-df-convert\" onclick=\"convertToInteractive('df-ba80506c-34f2-47be-8516-47be8d26e295')\"\n",
              "              title=\"Convert this dataframe to an interactive table.\"\n",
              "              style=\"display:none;\">\n",
              "        \n",
              "  <svg xmlns=\"http://www.w3.org/2000/svg\" height=\"24px\"viewBox=\"0 0 24 24\"\n",
              "       width=\"24px\">\n",
              "    <path d=\"M0 0h24v24H0V0z\" fill=\"none\"/>\n",
              "    <path d=\"M18.56 5.44l.94 2.06.94-2.06 2.06-.94-2.06-.94-.94-2.06-.94 2.06-2.06.94zm-11 1L8.5 8.5l.94-2.06 2.06-.94-2.06-.94L8.5 2.5l-.94 2.06-2.06.94zm10 10l.94 2.06.94-2.06 2.06-.94-2.06-.94-.94-2.06-.94 2.06-2.06.94z\"/><path d=\"M17.41 7.96l-1.37-1.37c-.4-.4-.92-.59-1.43-.59-.52 0-1.04.2-1.43.59L10.3 9.45l-7.72 7.72c-.78.78-.78 2.05 0 2.83L4 21.41c.39.39.9.59 1.41.59.51 0 1.02-.2 1.41-.59l7.78-7.78 2.81-2.81c.8-.78.8-2.07 0-2.86zM5.41 20L4 18.59l7.72-7.72 1.47 1.35L5.41 20z\"/>\n",
              "  </svg>\n",
              "      </button>\n",
              "      \n",
              "  <style>\n",
              "    .colab-df-container {\n",
              "      display:flex;\n",
              "      flex-wrap:wrap;\n",
              "      gap: 12px;\n",
              "    }\n",
              "\n",
              "    .colab-df-convert {\n",
              "      background-color: #E8F0FE;\n",
              "      border: none;\n",
              "      border-radius: 50%;\n",
              "      cursor: pointer;\n",
              "      display: none;\n",
              "      fill: #1967D2;\n",
              "      height: 32px;\n",
              "      padding: 0 0 0 0;\n",
              "      width: 32px;\n",
              "    }\n",
              "\n",
              "    .colab-df-convert:hover {\n",
              "      background-color: #E2EBFA;\n",
              "      box-shadow: 0px 1px 2px rgba(60, 64, 67, 0.3), 0px 1px 3px 1px rgba(60, 64, 67, 0.15);\n",
              "      fill: #174EA6;\n",
              "    }\n",
              "\n",
              "    [theme=dark] .colab-df-convert {\n",
              "      background-color: #3B4455;\n",
              "      fill: #D2E3FC;\n",
              "    }\n",
              "\n",
              "    [theme=dark] .colab-df-convert:hover {\n",
              "      background-color: #434B5C;\n",
              "      box-shadow: 0px 1px 3px 1px rgba(0, 0, 0, 0.15);\n",
              "      filter: drop-shadow(0px 1px 2px rgba(0, 0, 0, 0.3));\n",
              "      fill: #FFFFFF;\n",
              "    }\n",
              "  </style>\n",
              "\n",
              "      <script>\n",
              "        const buttonEl =\n",
              "          document.querySelector('#df-ba80506c-34f2-47be-8516-47be8d26e295 button.colab-df-convert');\n",
              "        buttonEl.style.display =\n",
              "          google.colab.kernel.accessAllowed ? 'block' : 'none';\n",
              "\n",
              "        async function convertToInteractive(key) {\n",
              "          const element = document.querySelector('#df-ba80506c-34f2-47be-8516-47be8d26e295');\n",
              "          const dataTable =\n",
              "            await google.colab.kernel.invokeFunction('convertToInteractive',\n",
              "                                                     [key], {});\n",
              "          if (!dataTable) return;\n",
              "\n",
              "          const docLinkHtml = 'Like what you see? Visit the ' +\n",
              "            '<a target=\"_blank\" href=https://colab.research.google.com/notebooks/data_table.ipynb>data table notebook</a>'\n",
              "            + ' to learn more about interactive tables.';\n",
              "          element.innerHTML = '';\n",
              "          dataTable['output_type'] = 'display_data';\n",
              "          await google.colab.output.renderOutput(dataTable, element);\n",
              "          const docLink = document.createElement('div');\n",
              "          docLink.innerHTML = docLinkHtml;\n",
              "          element.appendChild(docLink);\n",
              "        }\n",
              "      </script>\n",
              "    </div>\n",
              "  </div>\n",
              "  "
            ],
            "text/plain": [
              "                User                                              Tweet\n",
              "0    IDSahabatGanjar  Gubernur Jawa Tengah Ganjar Pranowo mengatakan...\n",
              "1       tribunkaltim  Cawapres Anies Baswedan Sudah Ditentukan, Demo...\n",
              "2    b851e10764c7434  #jasper\\n#prabowo\\n#anies\\n#ganjar\\n#akik\\n#ge...\n",
              "3           ruzzicom       #Ganjar Menang Total https://t.co/36q4JSCT6t\n",
              "4        sdg_sumsel1  Jum'at Berkah Berbagi di Jalanan Palembang;\\n\\...\n",
              "..               ...                                                ...\n",
              "777    ApulPSitompul  @SalamSantun_ @islah_bahrawi Ooo jd tu poto wk...\n",
              "778         winnetau  @one_sach97004 @putrisakera @Dennysiregar7 Set...\n",
              "779       Thalomoan1  @AriHend34760216 😆😆😆\\nEmak ku skg jadi buzzer ...\n",
              "780  ErwinRockerkids  @irwan_fecho Pasir yg udah keambil emang bisa ...\n",
              "781  UjangSu30117988  @DokterTifa @aniesbaswedan Anies memang pantas...\n",
              "\n",
              "[782 rows x 2 columns]"
            ]
          },
          "execution_count": 74,
          "metadata": {},
          "output_type": "execute_result"
        }
      ],
      "source": [
        "tweets_dfanies"
      ]
    },
    {
      "cell_type": "code",
      "execution_count": null,
      "metadata": {
        "colab": {
          "base_uri": "https://localhost:8080/"
        },
        "id": "uNs5MPo15aMF",
        "outputId": "8b53a135-fc16-4d88-879e-22505bfd9afc"
      },
      "outputs": [
        {
          "data": {
            "text/plain": [
              "User     0\n",
              "Tweet    0\n",
              "dtype: int64"
            ]
          },
          "execution_count": 83,
          "metadata": {},
          "output_type": "execute_result"
        }
      ],
      "source": [
        "tweets_dfanies.isna().sum()"
      ]
    },
    {
      "cell_type": "code",
      "execution_count": null,
      "metadata": {
        "colab": {
          "base_uri": "https://localhost:8080/"
        },
        "id": "KufgiKvv7fOO",
        "outputId": "6a227a05-194b-40ab-f827-2096e1dce955"
      },
      "outputs": [
        {
          "data": {
            "text/plain": [
              "pandas.core.series.Series"
            ]
          },
          "execution_count": 90,
          "metadata": {},
          "output_type": "execute_result"
        }
      ],
      "source": [
        "type(tweets_dfanies[\"Tweet\"])"
      ]
    },
    {
      "cell_type": "code",
      "execution_count": null,
      "metadata": {
        "id": "lS9ezbhk5_aA"
      },
      "outputs": [],
      "source": [
        "tweets_dfanies.to_csv(\"anies_before.csv\")"
      ]
    },
    {
      "cell_type": "code",
      "execution_count": null,
      "metadata": {
        "id": "okkJSoLT5LH3"
      },
      "outputs": [],
      "source": [
        "def clean_tweet_anies(tweet):\n",
        "    tweet = tweets_dfanies[\"Tweet\"][i]\n",
        "    # Remove links\n",
        "    tweet = re.sub(r\"https:\\/\\/(www\\.)?[-a-zA-Z0-9@:%._\\+~#=]{2,256}\\.[a-z]{2,6}\\b([-a-zA-Z0-9@:%_\\+.~#?&//=]*)\",\"\", tweet)\n",
        "\n",
        "    # Remove hashtags\n",
        "    tweet = re.sub(r'#\\w+', '', tweet)\n",
        "\n",
        "    # Remove mentions\n",
        "    tweet = re.sub(r'@\\w+', '', tweet)\n",
        "\n",
        "    return tweet\n",
        "\n",
        "cleaned_data_anies = []\n",
        "for i in range (len(tweets_dfanies[\"Tweet\"].index)):\n",
        "    cleaned_tweet_anies = clean_tweet_anies(i)\n",
        "    cleaned_data_anies.append(cleaned_tweet_anies)\n",
        "\n",
        "# Print the cleaned Twitter data\n",
        "# for tweet in cleaned_data:\n",
        "#     print(tweet)\n",
        "\n",
        "cleaned_data_anies = pd.DataFrame(cleaned_data_anies,columns=[\"Tweet\"])\n",
        "cleaned_data_anies['Tweet'] = cleaned_data_anies['Tweet'].apply(lambda x: re.split('https:\\/\\/.*', str(x))[0])\n",
        "cleaned_data_anies['Tweet'] = cleaned_data_anies['Tweet'].str.replace(EMOJI_PATTERN, '', regex=True)\n"
      ]
    },
    {
      "cell_type": "code",
      "execution_count": null,
      "metadata": {
        "colab": {
          "base_uri": "https://localhost:8080/"
        },
        "id": "p59Y4sD45zsD",
        "outputId": "e30a8496-4800-4547-ac96-9c567afec779"
      },
      "outputs": [
        {
          "data": {
            "text/plain": [
              "(782, 1)"
            ]
          },
          "execution_count": 98,
          "metadata": {},
          "output_type": "execute_result"
        }
      ],
      "source": [
        "old_df_anies = cleaned_data_anies.copy()\n",
        "old_df_anies.shape\n",
        "# # data.to_csv(\"afterpreprocess.csv\")"
      ]
    },
    {
      "cell_type": "code",
      "execution_count": null,
      "metadata": {
        "id": "2zVSrm8A5zsE"
      },
      "outputs": [],
      "source": [
        "cleaned_data_anies[\"Tweet\"] = cleaned_data_anies[\"Tweet\"].apply(preprocess)\n",
        "cleaned_data_anies_new = cleaned_data_anies[\"Tweet\"]"
      ]
    },
    {
      "cell_type": "code",
      "execution_count": null,
      "metadata": {
        "colab": {
          "base_uri": "https://localhost:8080/"
        },
        "id": "BUl7r8Bo5zsE",
        "outputId": "a2f3640b-bc12-414a-b51e-ac488445d977"
      },
      "outputs": [
        {
          "data": {
            "text/plain": [
              "0      gubernur jawa tengah ganjar pranowo kata raya ...\n",
              "1      calon wakil presiden anies baswedan sudah tent...\n",
              "2           coba cek ini di tokopedia deh harga rp25 000\n",
              "3                                           menang total\n",
              "4                  jum at berkah bagi di jalan palembang\n",
              "                             ...                        \n",
              "777    ooo jadi itu foto waktu masih gembel ya saya h...\n",
              "778    tuju anies memang tidak ngapa2in lama jadi gub...\n",
              "779    emak ku sekarang jadi buzzer dungu mbak apalag...\n",
              "780    pasir yang sudah ambil memang bisa tambah lagi...\n",
              "781    anies memang pantas kita dukung dan pilih jadi...\n",
              "Name: Tweet, Length: 654, dtype: object"
            ]
          },
          "execution_count": 100,
          "metadata": {},
          "output_type": "execute_result"
        }
      ],
      "source": [
        "cleaned_data_anies_new = cleaned_data_anies_new.drop_duplicates()\n",
        "cleaned_data_anies_new\n"
      ]
    },
    {
      "cell_type": "code",
      "execution_count": null,
      "metadata": {
        "colab": {
          "base_uri": "https://localhost:8080/"
        },
        "id": "OHNMtDoA8B_V",
        "outputId": "c7adf9aa-803d-4b84-8912-3be0958331e7"
      },
      "outputs": [
        {
          "data": {
            "text/plain": [
              "(654,)"
            ]
          },
          "execution_count": 101,
          "metadata": {},
          "output_type": "execute_result"
        }
      ],
      "source": [
        "cleaned_data_anies_new.shape\n"
      ]
    },
    {
      "cell_type": "code",
      "execution_count": null,
      "metadata": {
        "id": "26zpDN5D8Pnd"
      },
      "outputs": [],
      "source": [
        "cleaned_data_anies_new.to_csv(\"anies_cleandata.csv\")"
      ]
    },
    {
      "cell_type": "markdown",
      "metadata": {
        "id": "H4RTx2I7cDl7"
      },
      "source": [
        "## Prabowo"
      ]
    },
    {
      "cell_type": "code",
      "execution_count": null,
      "metadata": {
        "colab": {
          "base_uri": "https://localhost:8080/"
        },
        "id": "u6sWO4kmcFjv",
        "outputId": "22db42be-51fa-461e-fa0b-a3bf1daa5891"
      },
      "outputs": [
        {
          "name": "stderr",
          "output_type": "stream",
          "text": [
            "<ipython-input-156-c5e28a8347fb>:2: DeprecatedFeatureWarning: content is deprecated, use rawContent instead\n",
            "  attributes_container.append([tweet.user.username, tweet.content])\n",
            "WARNING:snscrape.modules.twitter:Skipping unrecognised entry ID: 'promoted-tweet-1663201714403418114-7b99433a4a859f8'\n",
            "WARNING:snscrape.modules.twitter:Skipping unrecognised entry ID: 'promoted-tweet-1665807170191892483-7b90866244dd7ce'\n",
            "WARNING:snscrape.modules.twitter:Unavailable user in card on tweet 1665441926781485056\n",
            "WARNING:snscrape.modules.twitter:User 875036327657455617 not found in user refs in card on tweet 1665441926781485056\n",
            "WARNING:snscrape.modules.twitter:Skipping unrecognised entry ID: 'promoted-tweet-1665265731334701059-7b9fdb97ffebe27'\n",
            "WARNING:snscrape.modules.twitter:Skipping unrecognised entry ID: 'promoted-tweet-1665265731334701059-7ba5eb36b1ec9cd'\n",
            "WARNING:snscrape.modules.twitter:Unavailable user in card on tweet 1665393474076549125\n",
            "WARNING:snscrape.modules.twitter:User 3331934354 not found in user refs in card on tweet 1665393474076549125\n",
            "WARNING:snscrape.modules.twitter:Unavailable user in card on tweet 1665388977887805441\n",
            "WARNING:snscrape.modules.twitter:User 875036327657455617 not found in user refs in card on tweet 1665388977887805441\n",
            "WARNING:snscrape.modules.twitter:Unavailable user in card on tweet 1665388976625311744\n",
            "WARNING:snscrape.modules.twitter:User 875036327657455617 not found in user refs in card on tweet 1665388976625311744\n",
            "WARNING:snscrape.modules.twitter:Unavailable user in card on tweet 1665388456741330950\n",
            "WARNING:snscrape.modules.twitter:User 875036327657455617 not found in user refs in card on tweet 1665388456741330950\n",
            "WARNING:snscrape.modules.twitter:Unavailable user in card on tweet 1665388385119158272\n",
            "WARNING:snscrape.modules.twitter:Unavailable user in card on tweet 1665388385119158272\n",
            "WARNING:snscrape.modules.twitter:User 1604498117021138944 not found in user refs in card on tweet 1665388385119158272\n",
            "WARNING:snscrape.modules.twitter:User 1604498117021138944 not found in user refs in card on tweet 1665388385119158272\n",
            "WARNING:snscrape.modules.twitter:Unavailable user in card on tweet 1665386719485779968\n",
            "WARNING:snscrape.modules.twitter:User 3331934354 not found in user refs in card on tweet 1665386719485779968\n",
            "WARNING:snscrape.modules.twitter:Unavailable user in card on tweet 1665374412772888577\n",
            "WARNING:snscrape.modules.twitter:Unavailable user in card on tweet 1665374412772888577\n",
            "WARNING:snscrape.modules.twitter:User 966983910788759553 not found in user refs in card on tweet 1665374412772888577\n",
            "WARNING:snscrape.modules.twitter:User 966983910788759553 not found in user refs in card on tweet 1665374412772888577\n",
            "WARNING:snscrape.modules.twitter:Unavailable user in card on tweet 1665359762702356480\n",
            "WARNING:snscrape.modules.twitter:Unavailable user in card on tweet 1665359762702356480\n",
            "WARNING:snscrape.modules.twitter:User 555130882 not found in user refs in card on tweet 1665359762702356480\n",
            "WARNING:snscrape.modules.twitter:User 555130882 not found in user refs in card on tweet 1665359762702356480\n",
            "WARNING:snscrape.modules.twitter:Skipping unrecognised entry ID: 'promoted-tweet-1653785610820153344-7ba5dc3560a9ef3'\n",
            "WARNING:snscrape.modules.twitter:Skipping unrecognised entry ID: 'promoted-tweet-1665800215532826625-7ba74da751a9200'\n",
            "WARNING:snscrape.modules.twitter:Unavailable user in card on tweet 1665349603212902404\n",
            "WARNING:snscrape.modules.twitter:Unavailable user in card on tweet 1665349603212902404\n",
            "WARNING:snscrape.modules.twitter:User 1604498117021138944 not found in user refs in card on tweet 1665349603212902404\n",
            "WARNING:snscrape.modules.twitter:User 1604498117021138944 not found in user refs in card on tweet 1665349603212902404\n",
            "WARNING:snscrape.modules.twitter:Unavailable user in card on tweet 1665345184564117504\n",
            "WARNING:snscrape.modules.twitter:User 875036327657455617 not found in user refs in card on tweet 1665345184564117504\n",
            "WARNING:snscrape.modules.twitter:Unavailable user in card on tweet 1665341637973921792\n",
            "WARNING:snscrape.modules.twitter:User 875036327657455617 not found in user refs in card on tweet 1665341637973921792\n",
            "WARNING:snscrape.modules.twitter:Unavailable user in card on tweet 1665339275494457344\n",
            "WARNING:snscrape.modules.twitter:Unavailable user in card on tweet 1665339275494457344\n",
            "WARNING:snscrape.modules.twitter:User 555130882 not found in user refs in card on tweet 1665339275494457344\n",
            "WARNING:snscrape.modules.twitter:User 555130882 not found in user refs in card on tweet 1665339275494457344\n",
            "WARNING:snscrape.modules.twitter:Unavailable user in card on tweet 1665339270801031169\n",
            "WARNING:snscrape.modules.twitter:Unavailable user in card on tweet 1665339270801031169\n",
            "WARNING:snscrape.modules.twitter:User 555130882 not found in user refs in card on tweet 1665339270801031169\n",
            "WARNING:snscrape.modules.twitter:User 555130882 not found in user refs in card on tweet 1665339270801031169\n",
            "WARNING:snscrape.modules.twitter:Unavailable user in card on tweet 1665339268829708291\n",
            "WARNING:snscrape.modules.twitter:Unavailable user in card on tweet 1665339268829708291\n",
            "WARNING:snscrape.modules.twitter:User 555130882 not found in user refs in card on tweet 1665339268829708291\n",
            "WARNING:snscrape.modules.twitter:User 555130882 not found in user refs in card on tweet 1665339268829708291\n",
            "WARNING:snscrape.modules.twitter:Skipping unrecognised entry ID: 'promoted-tweet-1665265731334701059-7ba9d1d1316fbf0'\n",
            "WARNING:snscrape.modules.twitter:Skipping unrecognised entry ID: 'promoted-tweet-1665265731334701059-7ba1889fbafed82'\n",
            "WARNING:snscrape.modules.twitter:Unavailable user in card on tweet 1665321439363497987\n",
            "WARNING:snscrape.modules.twitter:User 875036327657455617 not found in user refs in card on tweet 1665321439363497987\n",
            "WARNING:snscrape.modules.twitter:Unavailable user in card on tweet 1665297666862100481\n",
            "WARNING:snscrape.modules.twitter:User 3003332750 not found in user refs in card on tweet 1665297666862100481\n",
            "WARNING:snscrape.modules.twitter:Unavailable user in card on tweet 1665286044047273984\n",
            "WARNING:snscrape.modules.twitter:Unavailable user in card on tweet 1665286044047273984\n",
            "WARNING:snscrape.modules.twitter:User 555130882 not found in user refs in card on tweet 1665286044047273984\n",
            "WARNING:snscrape.modules.twitter:User 555130882 not found in user refs in card on tweet 1665286044047273984\n",
            "WARNING:snscrape.modules.twitter:Unavailable user in card on tweet 1665282407145295873\n",
            "WARNING:snscrape.modules.twitter:Unavailable user in card on tweet 1665282407145295873\n",
            "WARNING:snscrape.modules.twitter:User 555130882 not found in user refs in card on tweet 1665282407145295873\n",
            "WARNING:snscrape.modules.twitter:User 555130882 not found in user refs in card on tweet 1665282407145295873\n",
            "WARNING:snscrape.modules.twitter:Unavailable user in card on tweet 1665282388816171008\n",
            "WARNING:snscrape.modules.twitter:Unavailable user in card on tweet 1665282388816171008\n",
            "WARNING:snscrape.modules.twitter:User 555130882 not found in user refs in card on tweet 1665282388816171008\n",
            "WARNING:snscrape.modules.twitter:User 555130882 not found in user refs in card on tweet 1665282388816171008\n",
            "WARNING:snscrape.modules.twitter:Unavailable user in card on tweet 1665282388811984896\n",
            "WARNING:snscrape.modules.twitter:Unavailable user in card on tweet 1665282388811984896\n",
            "WARNING:snscrape.modules.twitter:User 555130882 not found in user refs in card on tweet 1665282388811984896\n",
            "WARNING:snscrape.modules.twitter:User 555130882 not found in user refs in card on tweet 1665282388811984896\n",
            "WARNING:snscrape.modules.twitter:Unavailable user in card on tweet 1665282388631625731\n",
            "WARNING:snscrape.modules.twitter:Unavailable user in card on tweet 1665282388631625731\n",
            "WARNING:snscrape.modules.twitter:User 555130882 not found in user refs in card on tweet 1665282388631625731\n",
            "WARNING:snscrape.modules.twitter:User 555130882 not found in user refs in card on tweet 1665282388631625731\n",
            "WARNING:snscrape.modules.twitter:Unavailable user in card on tweet 1665282387625021445\n",
            "WARNING:snscrape.modules.twitter:Unavailable user in card on tweet 1665282387625021445\n",
            "WARNING:snscrape.modules.twitter:User 555130882 not found in user refs in card on tweet 1665282387625021445\n",
            "WARNING:snscrape.modules.twitter:User 555130882 not found in user refs in card on tweet 1665282387625021445\n",
            "WARNING:snscrape.modules.twitter:Unavailable user in card on tweet 1665282387507572736\n",
            "WARNING:snscrape.modules.twitter:Unavailable user in card on tweet 1665282387507572736\n",
            "WARNING:snscrape.modules.twitter:User 555130882 not found in user refs in card on tweet 1665282387507572736\n",
            "WARNING:snscrape.modules.twitter:User 555130882 not found in user refs in card on tweet 1665282387507572736\n",
            "WARNING:snscrape.modules.twitter:Unavailable user in card on tweet 1665281257998278657\n",
            "WARNING:snscrape.modules.twitter:Unavailable user in card on tweet 1665281257998278657\n",
            "WARNING:snscrape.modules.twitter:User 555130882 not found in user refs in card on tweet 1665281257998278657\n",
            "WARNING:snscrape.modules.twitter:User 555130882 not found in user refs in card on tweet 1665281257998278657\n",
            "WARNING:snscrape.modules.twitter:Unavailable user in card on tweet 1665281255800446976\n",
            "WARNING:snscrape.modules.twitter:Unavailable user in card on tweet 1665281255800446976\n",
            "WARNING:snscrape.modules.twitter:User 555130882 not found in user refs in card on tweet 1665281255800446976\n",
            "WARNING:snscrape.modules.twitter:User 555130882 not found in user refs in card on tweet 1665281255800446976\n",
            "WARNING:snscrape.modules.twitter:Stopping after 20 empty pages\n"
          ]
        }
      ],
      "source": [
        "for i,tweet in enumerate(sntwitter.TwitterSearchScraper('prabowo since:2023-05-05 until:2023-06-05').get_items()):\n",
        "  if enumerate > 150:\n",
        "    break;\n",
        "    attributes_container.append([tweet.user.username, tweet.content])\n",
        "\n",
        "# Creating a dataframe to load the list\n",
        "tweets_dfprabowo= pd.DataFrame(attributes_container, columns=[\"User\", \"Tweet\"])"
      ]
    },
    {
      "cell_type": "code",
      "execution_count": null,
      "metadata": {
        "colab": {
          "background_save": true,
          "base_uri": "https://localhost:8080/"
        },
        "id": "hc30AO3FcFjv",
        "outputId": "b95702c0-b882-421b-f956-7b09c7ee1bcf"
      },
      "outputs": [
        {
          "data": {
            "text/plain": [
              "(19059, 2)"
            ]
          },
          "execution_count": 193,
          "metadata": {},
          "output_type": "execute_result"
        }
      ],
      "source": [
        "tweets_dfprabowo.shape"
      ]
    },
    {
      "cell_type": "code",
      "execution_count": null,
      "metadata": {
        "colab": {
          "background_save": true,
          "base_uri": "https://localhost:8080/",
          "height": 423
        },
        "id": "byek37tCcFjv",
        "outputId": "010d4423-5386-49b4-9f7e-1fed921329d1"
      },
      "outputs": [
        {
          "data": {
            "text/html": [
              "\n",
              "  <div id=\"df-d4b7285a-1112-4724-b3dc-47c5a13cb92e\">\n",
              "    <div class=\"colab-df-container\">\n",
              "      <div>\n",
              "<style scoped>\n",
              "    .dataframe tbody tr th:only-of-type {\n",
              "        vertical-align: middle;\n",
              "    }\n",
              "\n",
              "    .dataframe tbody tr th {\n",
              "        vertical-align: top;\n",
              "    }\n",
              "\n",
              "    .dataframe thead th {\n",
              "        text-align: right;\n",
              "    }\n",
              "</style>\n",
              "<table border=\"1\" class=\"dataframe\">\n",
              "  <thead>\n",
              "    <tr style=\"text-align: right;\">\n",
              "      <th></th>\n",
              "      <th>User</th>\n",
              "      <th>Tweet</th>\n",
              "    </tr>\n",
              "  </thead>\n",
              "  <tbody>\n",
              "    <tr>\n",
              "      <th>0</th>\n",
              "      <td>wongAyoe2021</td>\n",
              "      <td>@aan_muba @ganjarpranowo Melebur dengan semua ...</td>\n",
              "    </tr>\n",
              "    <tr>\n",
              "      <th>1</th>\n",
              "      <td>fear37030</td>\n",
              "      <td>@tvOneNews Ganjar unggul di BuzzeRp</td>\n",
              "    </tr>\n",
              "    <tr>\n",
              "      <th>2</th>\n",
              "      <td>gunadigunadi202</td>\n",
              "      <td>@BuayaUbanan Nak aku pengene pak Ganjar di pas...</td>\n",
              "    </tr>\n",
              "    <tr>\n",
              "      <th>3</th>\n",
              "      <td>Ugi7498</td>\n",
              "      <td>@geloraco Aq cah Candisari Semarang, 💯% tidak ...</td>\n",
              "    </tr>\n",
              "    <tr>\n",
              "      <th>4</th>\n",
              "      <td>Ugi7498</td>\n",
              "      <td>@HidayatNatari Aq cah Candisari Semarang, 💯% t...</td>\n",
              "    </tr>\n",
              "    <tr>\n",
              "      <th>...</th>\n",
              "      <td>...</td>\n",
              "      <td>...</td>\n",
              "    </tr>\n",
              "    <tr>\n",
              "      <th>19054</th>\n",
              "      <td>ismail_mughni</td>\n",
              "      <td>@Dahnilanzar @prabowo Bagaimana kalau nanti ne...</td>\n",
              "    </tr>\n",
              "    <tr>\n",
              "      <th>19055</th>\n",
              "      <td>LonikaBytta</td>\n",
              "      <td>Prabowo mulai ditinggalkan.\\n\\nMinggu Sore Aku...</td>\n",
              "    </tr>\n",
              "    <tr>\n",
              "      <th>19056</th>\n",
              "      <td>P30437846Hendri</td>\n",
              "      <td>@Lyrnetwork Just rugged</td>\n",
              "    </tr>\n",
              "    <tr>\n",
              "      <th>19057</th>\n",
              "      <td>mhdrstwn</td>\n",
              "      <td>@tvOneNews jauh PDI P dan kader nya… pilih Ani...</td>\n",
              "    </tr>\n",
              "    <tr>\n",
              "      <th>19058</th>\n",
              "      <td>KepaArgawinata2</td>\n",
              "      <td>@arifin34533 @03__nakula @WagimanDeep212_ @nar...</td>\n",
              "    </tr>\n",
              "  </tbody>\n",
              "</table>\n",
              "<p>19059 rows × 2 columns</p>\n",
              "</div>\n",
              "      <button class=\"colab-df-convert\" onclick=\"convertToInteractive('df-d4b7285a-1112-4724-b3dc-47c5a13cb92e')\"\n",
              "              title=\"Convert this dataframe to an interactive table.\"\n",
              "              style=\"display:none;\">\n",
              "        \n",
              "  <svg xmlns=\"http://www.w3.org/2000/svg\" height=\"24px\"viewBox=\"0 0 24 24\"\n",
              "       width=\"24px\">\n",
              "    <path d=\"M0 0h24v24H0V0z\" fill=\"none\"/>\n",
              "    <path d=\"M18.56 5.44l.94 2.06.94-2.06 2.06-.94-2.06-.94-.94-2.06-.94 2.06-2.06.94zm-11 1L8.5 8.5l.94-2.06 2.06-.94-2.06-.94L8.5 2.5l-.94 2.06-2.06.94zm10 10l.94 2.06.94-2.06 2.06-.94-2.06-.94-.94-2.06-.94 2.06-2.06.94z\"/><path d=\"M17.41 7.96l-1.37-1.37c-.4-.4-.92-.59-1.43-.59-.52 0-1.04.2-1.43.59L10.3 9.45l-7.72 7.72c-.78.78-.78 2.05 0 2.83L4 21.41c.39.39.9.59 1.41.59.51 0 1.02-.2 1.41-.59l7.78-7.78 2.81-2.81c.8-.78.8-2.07 0-2.86zM5.41 20L4 18.59l7.72-7.72 1.47 1.35L5.41 20z\"/>\n",
              "  </svg>\n",
              "      </button>\n",
              "      \n",
              "  <style>\n",
              "    .colab-df-container {\n",
              "      display:flex;\n",
              "      flex-wrap:wrap;\n",
              "      gap: 12px;\n",
              "    }\n",
              "\n",
              "    .colab-df-convert {\n",
              "      background-color: #E8F0FE;\n",
              "      border: none;\n",
              "      border-radius: 50%;\n",
              "      cursor: pointer;\n",
              "      display: none;\n",
              "      fill: #1967D2;\n",
              "      height: 32px;\n",
              "      padding: 0 0 0 0;\n",
              "      width: 32px;\n",
              "    }\n",
              "\n",
              "    .colab-df-convert:hover {\n",
              "      background-color: #E2EBFA;\n",
              "      box-shadow: 0px 1px 2px rgba(60, 64, 67, 0.3), 0px 1px 3px 1px rgba(60, 64, 67, 0.15);\n",
              "      fill: #174EA6;\n",
              "    }\n",
              "\n",
              "    [theme=dark] .colab-df-convert {\n",
              "      background-color: #3B4455;\n",
              "      fill: #D2E3FC;\n",
              "    }\n",
              "\n",
              "    [theme=dark] .colab-df-convert:hover {\n",
              "      background-color: #434B5C;\n",
              "      box-shadow: 0px 1px 3px 1px rgba(0, 0, 0, 0.15);\n",
              "      filter: drop-shadow(0px 1px 2px rgba(0, 0, 0, 0.3));\n",
              "      fill: #FFFFFF;\n",
              "    }\n",
              "  </style>\n",
              "\n",
              "      <script>\n",
              "        const buttonEl =\n",
              "          document.querySelector('#df-d4b7285a-1112-4724-b3dc-47c5a13cb92e button.colab-df-convert');\n",
              "        buttonEl.style.display =\n",
              "          google.colab.kernel.accessAllowed ? 'block' : 'none';\n",
              "\n",
              "        async function convertToInteractive(key) {\n",
              "          const element = document.querySelector('#df-d4b7285a-1112-4724-b3dc-47c5a13cb92e');\n",
              "          const dataTable =\n",
              "            await google.colab.kernel.invokeFunction('convertToInteractive',\n",
              "                                                     [key], {});\n",
              "          if (!dataTable) return;\n",
              "\n",
              "          const docLinkHtml = 'Like what you see? Visit the ' +\n",
              "            '<a target=\"_blank\" href=https://colab.research.google.com/notebooks/data_table.ipynb>data table notebook</a>'\n",
              "            + ' to learn more about interactive tables.';\n",
              "          element.innerHTML = '';\n",
              "          dataTable['output_type'] = 'display_data';\n",
              "          await google.colab.output.renderOutput(dataTable, element);\n",
              "          const docLink = document.createElement('div');\n",
              "          docLink.innerHTML = docLinkHtml;\n",
              "          element.appendChild(docLink);\n",
              "        }\n",
              "      </script>\n",
              "    </div>\n",
              "  </div>\n",
              "  "
            ],
            "text/plain": [
              "                  User                                              Tweet\n",
              "0         wongAyoe2021  @aan_muba @ganjarpranowo Melebur dengan semua ...\n",
              "1            fear37030                @tvOneNews Ganjar unggul di BuzzeRp\n",
              "2      gunadigunadi202  @BuayaUbanan Nak aku pengene pak Ganjar di pas...\n",
              "3              Ugi7498  @geloraco Aq cah Candisari Semarang, 💯% tidak ...\n",
              "4              Ugi7498  @HidayatNatari Aq cah Candisari Semarang, 💯% t...\n",
              "...                ...                                                ...\n",
              "19054    ismail_mughni  @Dahnilanzar @prabowo Bagaimana kalau nanti ne...\n",
              "19055      LonikaBytta  Prabowo mulai ditinggalkan.\\n\\nMinggu Sore Aku...\n",
              "19056  P30437846Hendri                            @Lyrnetwork Just rugged\n",
              "19057         mhdrstwn  @tvOneNews jauh PDI P dan kader nya… pilih Ani...\n",
              "19058  KepaArgawinata2  @arifin34533 @03__nakula @WagimanDeep212_ @nar...\n",
              "\n",
              "[19059 rows x 2 columns]"
            ]
          },
          "execution_count": 194,
          "metadata": {},
          "output_type": "execute_result"
        }
      ],
      "source": [
        "tweets_dfprabowo"
      ]
    },
    {
      "cell_type": "code",
      "execution_count": null,
      "metadata": {
        "colab": {
          "background_save": true,
          "base_uri": "https://localhost:8080/"
        },
        "id": "ac1tcrWccFjw",
        "outputId": "441d271d-c407-4cc3-eaf4-232e113a2718"
      },
      "outputs": [
        {
          "data": {
            "text/plain": [
              "User     0\n",
              "Tweet    0\n",
              "dtype: int64"
            ]
          },
          "execution_count": 195,
          "metadata": {},
          "output_type": "execute_result"
        }
      ],
      "source": [
        "tweets_dfprabowo.isna().sum()"
      ]
    },
    {
      "cell_type": "code",
      "execution_count": null,
      "metadata": {
        "colab": {
          "background_save": true,
          "base_uri": "https://localhost:8080/"
        },
        "id": "l0bwBmE9cFjw",
        "outputId": "89ddd9ad-dfae-4489-8e81-38a67e22b707"
      },
      "outputs": [
        {
          "data": {
            "text/plain": [
              "pandas.core.series.Series"
            ]
          },
          "execution_count": 196,
          "metadata": {},
          "output_type": "execute_result"
        }
      ],
      "source": [
        "type(tweets_dfprabowo[\"Tweet\"])"
      ]
    },
    {
      "cell_type": "code",
      "execution_count": null,
      "metadata": {
        "colab": {
          "background_save": true
        },
        "id": "lpTZSM4ucFjw"
      },
      "outputs": [],
      "source": [
        "tweets_dfprabowo.to_csv(\"prabowo_before.csv\")"
      ]
    },
    {
      "cell_type": "code",
      "execution_count": null,
      "metadata": {
        "colab": {
          "background_save": true
        },
        "id": "YMJwV3ENcFjw"
      },
      "outputs": [],
      "source": [
        "def clean_tweet_prabowo(tweet):\n",
        "    tweet = tweets_dfprabowo[\"Tweet\"][i]\n",
        "    # Remove links\n",
        "    tweet = re.sub(r\"https:\\/\\/(www\\.)?[-a-zA-Z0-9@:%._\\+~#=]{2,256}\\.[a-z]{2,6}\\b([-a-zA-Z0-9@:%_\\+.~#?&//=]*)\",\"\", tweet)\n",
        "\n",
        "    # Remove hashtags\n",
        "    tweet = re.sub(r'#\\w+', '', tweet)\n",
        "\n",
        "    # Remove mentions\n",
        "    tweet = re.sub(r'@\\w+', '', tweet)\n",
        "\n",
        "    return tweet\n",
        "\n",
        "cleaned_data_prabowo = []\n",
        "for i in range (len(tweets_dfprabowo[\"Tweet\"].index)):\n",
        "    cleaned_tweet_prabowo = clean_tweet_prabowo(i)\n",
        "    cleaned_data_prabowo.append(cleaned_tweet_prabowo)\n",
        "\n",
        "# Print the cleaned Twitter data\n",
        "# for tweet in cleaned_data:\n",
        "#     print(tweet)\n",
        "\n",
        "cleaned_data_prabowo = pd.DataFrame(cleaned_data_prabowo,columns=[\"Tweet\"])\n",
        "cleaned_data_prabowo['Tweet'] = cleaned_data_prabowo['Tweet'].apply(lambda x: re.split('https:\\/\\/.*', str(x))[0])\n",
        "cleaned_data_prabowo['Tweet'] = cleaned_data_prabowo['Tweet'].str.replace(EMOJI_PATTERN, '', regex=True)\n"
      ]
    },
    {
      "cell_type": "code",
      "execution_count": null,
      "metadata": {
        "colab": {
          "background_save": true,
          "base_uri": "https://localhost:8080/"
        },
        "id": "HLupAoZ-cFjw",
        "outputId": "93667e63-2a49-4dea-a837-8447f6a31863"
      },
      "outputs": [
        {
          "data": {
            "text/plain": [
              "(19059, 1)"
            ]
          },
          "execution_count": 199,
          "metadata": {},
          "output_type": "execute_result"
        }
      ],
      "source": [
        "old_df_prabowo = cleaned_data_prabowo.copy()\n",
        "old_df_prabowo.shape\n",
        "# # data.to_csv(\"afterpreprocess.csv\")"
      ]
    },
    {
      "cell_type": "code",
      "execution_count": null,
      "metadata": {
        "id": "KSVSa3AIcFjw"
      },
      "outputs": [],
      "source": [
        "cleaned_data_prabowo[\"Tweet\"] = cleaned_data_prabowo[\"Tweet\"].apply(preprocess)\n",
        "cleaned_data_prabowo_new = cleaned_data_prabowo[\"Tweet\"]"
      ]
    },
    {
      "cell_type": "code",
      "execution_count": null,
      "metadata": {
        "colab": {
          "background_save": true
        },
        "id": "virKCs3YcFjw"
      },
      "outputs": [],
      "source": [
        "cleaned_data_prabowo_new = cleaned_data_prabowo_new.drop_duplicates()\n",
        "cleaned_data_prabowo_new\n"
      ]
    },
    {
      "cell_type": "code",
      "execution_count": null,
      "metadata": {
        "colab": {
          "background_save": true
        },
        "id": "A44CfQgTcFjw"
      },
      "outputs": [],
      "source": [
        "cleaned_data_prabowo_new.shape\n"
      ]
    },
    {
      "cell_type": "code",
      "execution_count": null,
      "metadata": {
        "colab": {
          "background_save": true
        },
        "id": "Z_uxTG2ccFjw"
      },
      "outputs": [],
      "source": [
        "cleaned_data_prabowo_new.to_csv(\"prabowo_cleandata.csv\")"
      ]
    }
  ],
  "metadata": {
    "colab": {
      "provenance": []
    },
    "kernelspec": {
      "display_name": "Python 3",
      "name": "python3"
    },
    "language_info": {
      "name": "python"
    }
  },
  "nbformat": 4,
  "nbformat_minor": 0
}